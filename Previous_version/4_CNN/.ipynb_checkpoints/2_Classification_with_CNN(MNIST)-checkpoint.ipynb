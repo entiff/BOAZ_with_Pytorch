{
 "cells": [
  {
   "cell_type": "markdown",
   "metadata": {
    "colab_type": "text",
    "id": "xU6tLoBPVTz7"
   },
   "source": [
    "# Classification with Convolutional Neural Net (MNIST)\n",
    "\n",
    "- 이번 예제부터는 GPU를 이용해 학습하는 과정을 포함합니다.\n",
    "- MNIST 분류 문제를 CNN을 이용해 풀어보도록 하겠습니다."
   ]
  },
  {
   "cell_type": "code",
   "execution_count": 2,
   "metadata": {
    "colab": {
     "base_uri": "https://localhost:8080/",
     "height": 57
    },
    "colab_type": "code",
    "executionInfo": {
     "elapsed": 41389,
     "status": "ok",
     "timestamp": 1540741291929,
     "user": {
      "displayName": "김태희",
      "photoUrl": "",
      "userId": "11953226521466726862"
     },
     "user_tz": -540
    },
    "id": "LJkGbqQOVQFt",
    "outputId": "dceb141c-3555-4f1e-e124-78830c9c5268"
   },
   "outputs": [
    {
     "name": "stdout",
     "output_type": "stream",
     "text": [
      "tcmalloc: large alloc 1073750016 bytes == 0x58246000 @  0x7ff1c81bc2a4 0x594e17 0x626104 0x51190a 0x4f5277 0x510c78 0x5119bd 0x4f5277 0x4f3338 0x510fb0 0x5119bd 0x4f5277 0x4f3338 0x510fb0 0x5119bd 0x4f5277 0x4f3338 0x510fb0 0x5119bd 0x4f6070 0x510c78 0x5119bd 0x4f5277 0x4f3338 0x510fb0 0x5119bd 0x4f6070 0x4f3338 0x510fb0 0x5119bd 0x4f6070\n"
     ]
    }
   ],
   "source": [
    "# http://pytorch.org/\n",
    "from os.path import exists\n",
    "from wheel.pep425tags import get_abbr_impl, get_impl_ver, get_abi_tag\n",
    "platform = '{}{}-{}'.format(get_abbr_impl(), get_impl_ver(), get_abi_tag())\n",
    "cuda_output = !ldconfig -p|grep cudart.so|sed -e 's/.*\\.\\([0-9]*\\)\\.\\([0-9]*\\)$/cu\\1\\2/'\n",
    "accelerator = cuda_output[0] if exists('/dev/nvidia0') else 'cpu'\n",
    "\n",
    "!pip install -q http://download.pytorch.org/whl/{accelerator}/torch-0.4.1-{platform}-linux_x86_64.whl torchvision\n",
    "import torch"
   ]
  },
  {
   "cell_type": "code",
   "execution_count": 3,
   "metadata": {
    "colab": {
     "base_uri": "https://localhost:8080/",
     "height": 56
    },
    "colab_type": "code",
    "executionInfo": {
     "elapsed": 1125,
     "status": "ok",
     "timestamp": 1540741305778,
     "user": {
      "displayName": "김태희",
      "photoUrl": "",
      "userId": "11953226521466726862"
     },
     "user_tz": -540
    },
    "id": "Xc4KdSc8Vb2n",
    "outputId": "769ebdc4-8d1b-4776-f907-43764b50802a"
   },
   "outputs": [
    {
     "name": "stdout",
     "output_type": "stream",
     "text": [
      "0.4.1\n",
      "True\n"
     ]
    }
   ],
   "source": [
    "print(torch.__version__)\n",
    "print(torch.cuda.is_available())"
   ]
  },
  {
   "cell_type": "code",
   "execution_count": 0,
   "metadata": {
    "colab": {},
    "colab_type": "code",
    "collapsed": true,
    "id": "8thx5cG6ViW9"
   },
   "outputs": [],
   "source": [
    "import torch.nn as nn\n",
    "import torchvision\n",
    "import torchvision.transforms as transforms"
   ]
  },
  {
   "cell_type": "code",
   "execution_count": 0,
   "metadata": {
    "colab": {},
    "colab_type": "code",
    "collapsed": true,
    "id": "AX2YNDvpX0Ht"
   },
   "outputs": [],
   "source": [
    "# torch.device()를 통해 gpu를 이용합니다. \n",
    "# cuda:뒤의 번호는 gpu를 여러개 동시 사용할 때 쓰이는 gpu 번호입니다.\n",
    "# gpu 사용이 가능한 경우 torch.cuda.is_available() = True이고 아닌 경우 False가 됩니다.\n",
    "\n",
    "device = torch.device('cuda:0' if torch.cuda.is_available() else 'cpu')"
   ]
  },
  {
   "cell_type": "code",
   "execution_count": 0,
   "metadata": {
    "colab": {},
    "colab_type": "code",
    "collapsed": true,
    "id": "OUae6s0fX1Ye"
   },
   "outputs": [],
   "source": [
    "# hyper parameter들을 설정합니다.\n",
    "\n",
    "num_epochs = 5\n",
    "num_classes = 10\n",
    "batch_size = 100\n",
    "learning_rate = 0.001"
   ]
  },
  {
   "cell_type": "markdown",
   "metadata": {
    "colab_type": "text",
    "id": "RxbAzgDOX5sR"
   },
   "source": [
    "## Load data & DataLoader"
   ]
  },
  {
   "cell_type": "code",
   "execution_count": 7,
   "metadata": {
    "colab": {
     "base_uri": "https://localhost:8080/",
     "height": 133
    },
    "colab_type": "code",
    "executionInfo": {
     "elapsed": 6371,
     "status": "ok",
     "timestamp": 1540741915408,
     "user": {
      "displayName": "김태희",
      "photoUrl": "",
      "userId": "11953226521466726862"
     },
     "user_tz": -540
    },
    "id": "fK7SxgDcX3JD",
    "outputId": "607c4983-af07-40df-8ca0-0fb932acfe3c"
   },
   "outputs": [
    {
     "name": "stdout",
     "output_type": "stream",
     "text": [
      "Downloading http://yann.lecun.com/exdb/mnist/train-images-idx3-ubyte.gz\n",
      "Downloading http://yann.lecun.com/exdb/mnist/train-labels-idx1-ubyte.gz\n",
      "Downloading http://yann.lecun.com/exdb/mnist/t10k-images-idx3-ubyte.gz\n",
      "Downloading http://yann.lecun.com/exdb/mnist/t10k-labels-idx1-ubyte.gz\n",
      "Processing...\n",
      "Done!\n"
     ]
    }
   ],
   "source": [
    "# MNIST dataset을 불러옵니다.\n",
    "\n",
    "train_dataset = torchvision.datasets.MNIST(root='./data/',\n",
    "                                           train=True, \n",
    "                                           transform=transforms.ToTensor(),\n",
    "                                           download=True)\n",
    "\n",
    "test_dataset = torchvision.datasets.MNIST(root='./data/',\n",
    "                                          train=False, \n",
    "                                          transform=transforms.ToTensor())"
   ]
  },
  {
   "cell_type": "code",
   "execution_count": 0,
   "metadata": {
    "colab": {},
    "colab_type": "code",
    "collapsed": true,
    "id": "M14cDzcfX8nc"
   },
   "outputs": [],
   "source": [
    "# dataloader를 이용해 batch_size만큼 데이터를 불러올 수 있도록 합니다.\n",
    "\n",
    "train_loader = torch.utils.data.DataLoader(dataset=train_dataset,\n",
    "                                           batch_size=batch_size, \n",
    "                                           shuffle=True)\n",
    "\n",
    "test_loader = torch.utils.data.DataLoader(dataset=test_dataset,\n",
    "                                          batch_size=batch_size, \n",
    "                                          shuffle=False)"
   ]
  },
  {
   "cell_type": "markdown",
   "metadata": {
    "colab_type": "text",
    "id": "NDiEVbTVYBkV"
   },
   "source": [
    "## Modeling"
   ]
  },
  {
   "cell_type": "code",
   "execution_count": 0,
   "metadata": {
    "colab": {},
    "colab_type": "code",
    "collapsed": true,
    "id": "xTNtgzR2YDyJ"
   },
   "outputs": [],
   "source": [
    "class ConvNet(nn.Module):\n",
    "    def __init__(self, num_classes = 10):\n",
    "        super(ConvNet, self).__init__()\n",
    "        \n",
    "        # conv2d에서는 28x28 그대로 나옵니다.\n",
    "        # pooling을 통해 size는 14x14가 됩니다.\n",
    "        self.layer1 = nn.Sequential(\n",
    "            nn.Conv2d(1, 16, kernel_size = 5, stride = 1, padding = 2),\n",
    "            nn.BatchNorm2d(num_features = 16),\n",
    "            nn.ReLU(),\n",
    "            nn.MaxPool2d(kernel_size = 2, stride = 2)\n",
    "            )\n",
    "        \n",
    "        # conv2d에서는 14x14 그대로 나옵니다.\n",
    "        # pooling을 통해 size는 7x7이 됩니다.\n",
    "        self.layer2 = nn.Sequential(\n",
    "            nn.Conv2d(16, 32, kernel_size = 5, stride = 1, padding = 2),\n",
    "            nn.BatchNorm2d(num_features = 32),\n",
    "            nn.ReLU(),\n",
    "            nn.MaxPool2d(kernel_size = 2, stride = 2)\n",
    "            )\n",
    "        \n",
    "        self.fc = nn.Linear(7*7*32, num_classes)\n",
    "        \n",
    "    def forward(self, x):\n",
    "        x = self.layer1(x)\n",
    "        x = self.layer2(x)\n",
    "        # flatten\n",
    "        x = x.reshape(x.size(0), -1)\n",
    "        out = self.fc(x)\n",
    "        return out\n",
    "\n",
    "model = ConvNet(num_classes).to(device)"
   ]
  },
  {
   "cell_type": "markdown",
   "metadata": {
    "colab_type": "text",
    "id": "Hghye0plYHSr"
   },
   "source": [
    "## Loss & Optimizer"
   ]
  },
  {
   "cell_type": "code",
   "execution_count": 0,
   "metadata": {
    "colab": {},
    "colab_type": "code",
    "collapsed": true,
    "id": "Y7um7ps8YFrj"
   },
   "outputs": [],
   "source": [
    "criterion = nn.CrossEntropyLoss()\n",
    "optimizer = torch.optim.Adam(model.parameters(), lr=learning_rate)"
   ]
  },
  {
   "cell_type": "markdown",
   "metadata": {
    "colab_type": "text",
    "id": "wCYP9kSiYM-A"
   },
   "source": [
    "## Training"
   ]
  },
  {
   "cell_type": "code",
   "execution_count": 12,
   "metadata": {
    "colab": {
     "base_uri": "https://localhost:8080/",
     "height": 597
    },
    "colab_type": "code",
    "executionInfo": {
     "elapsed": 44265,
     "status": "ok",
     "timestamp": 1540742215073,
     "user": {
      "displayName": "김태희",
      "photoUrl": "",
      "userId": "11953226521466726862"
     },
     "user_tz": -540
    },
    "id": "tXl6PgL3YMAB",
    "outputId": "64fa0173-cad4-4651-947c-65fc81f19086"
   },
   "outputs": [
    {
     "name": "stdout",
     "output_type": "stream",
     "text": [
      "Epoch [1/5], Step [100/600], Loss: 0.1685\n",
      "Epoch [1/5], Step [200/600], Loss: 0.0488\n",
      "Epoch [1/5], Step [300/600], Loss: 0.1123\n",
      "Epoch [1/5], Step [400/600], Loss: 0.1052\n",
      "Epoch [1/5], Step [500/600], Loss: 0.0435\n",
      "Epoch [1/5], Step [600/600], Loss: 0.1029\n",
      "Epoch [2/5], Step [100/600], Loss: 0.0490\n",
      "Epoch [2/5], Step [200/600], Loss: 0.0592\n",
      "Epoch [2/5], Step [300/600], Loss: 0.0322\n",
      "Epoch [2/5], Step [400/600], Loss: 0.0502\n",
      "Epoch [2/5], Step [500/600], Loss: 0.0910\n",
      "Epoch [2/5], Step [600/600], Loss: 0.0292\n",
      "Epoch [3/5], Step [100/600], Loss: 0.0131\n",
      "Epoch [3/5], Step [200/600], Loss: 0.0829\n",
      "Epoch [3/5], Step [300/600], Loss: 0.0695\n",
      "Epoch [3/5], Step [400/600], Loss: 0.0762\n",
      "Epoch [3/5], Step [500/600], Loss: 0.0217\n",
      "Epoch [3/5], Step [600/600], Loss: 0.0371\n",
      "Epoch [4/5], Step [100/600], Loss: 0.0356\n",
      "Epoch [4/5], Step [200/600], Loss: 0.0304\n",
      "Epoch [4/5], Step [300/600], Loss: 0.0640\n",
      "Epoch [4/5], Step [400/600], Loss: 0.0772\n",
      "Epoch [4/5], Step [500/600], Loss: 0.0036\n",
      "Epoch [4/5], Step [600/600], Loss: 0.0300\n",
      "Epoch [5/5], Step [100/600], Loss: 0.0078\n",
      "Epoch [5/5], Step [200/600], Loss: 0.0720\n",
      "Epoch [5/5], Step [300/600], Loss: 0.0207\n",
      "Epoch [5/5], Step [400/600], Loss: 0.0015\n",
      "Epoch [5/5], Step [500/600], Loss: 0.0697\n",
      "Epoch [5/5], Step [600/600], Loss: 0.0305\n"
     ]
    }
   ],
   "source": [
    "total_step = len(train_loader)\n",
    "for epoch in range(num_epochs):\n",
    "    for i, (images, labels) in enumerate(train_loader):\n",
    "        \n",
    "        images = images.to(device)\n",
    "        labels = labels.to(device)\n",
    "        \n",
    "        # Forward pass\n",
    "        outputs = model(images)\n",
    "        loss = criterion(outputs, labels)\n",
    "        \n",
    "        # Backward and optimize\n",
    "        optimizer.zero_grad()\n",
    "        loss.backward()\n",
    "        optimizer.step()\n",
    "        \n",
    "        if (i+1) % 100 == 0:\n",
    "            print ('Epoch [{}/{}], Step [{}/{}], Loss: {:.4f}' \n",
    "                   .format(epoch+1, num_epochs, i+1, total_step, loss.item()))"
   ]
  },
  {
   "cell_type": "markdown",
   "metadata": {
    "colab_type": "text",
    "id": "4il8HwV6Y_E1"
   },
   "source": [
    "## Evaluation"
   ]
  },
  {
   "cell_type": "code",
   "execution_count": 13,
   "metadata": {
    "colab": {
     "base_uri": "https://localhost:8080/",
     "height": 37
    },
    "colab_type": "code",
    "executionInfo": {
     "elapsed": 1792,
     "status": "ok",
     "timestamp": 1540742232333,
     "user": {
      "displayName": "김태희",
      "photoUrl": "",
      "userId": "11953226521466726862"
     },
     "user_tz": -540
    },
    "id": "Y7lyDBnlY8hn",
    "outputId": "3a50bc0f-9f82-4f1d-c3ef-643dd4fb23f9"
   },
   "outputs": [
    {
     "name": "stdout",
     "output_type": "stream",
     "text": [
      "Test Accuracy of the model on the 10000 test images: 99.03 %\n"
     ]
    }
   ],
   "source": [
    "# eval() 에서는 dropout, batchnorm 등의 동작이 다릅니다.\n",
    "# dropout은 작동되지 않고 batchnorm의 running_mean, running_std는 normalization을 위해 사용됩니다.\n",
    "# 자세한 내용은 torch.nn.BatchNorm2d()을 참조하세요.\n",
    "\n",
    "model.eval()\n",
    "\n",
    "with torch.no_grad():\n",
    "    correct = 0\n",
    "    total = 0\n",
    "    for images, labels in test_loader:\n",
    "        \n",
    "        images = images.to(device)\n",
    "        labels = labels.to(device)\n",
    "        outputs = model(images)\n",
    "        \n",
    "        _, predicted = torch.max(outputs.data, 1)\n",
    "        \n",
    "        total += labels.size(0)\n",
    "        correct += (predicted == labels).sum().item()\n",
    "\n",
    "    print('Test Accuracy of the model on the 10000 test images: {} %'.format(100 * correct / total))"
   ]
  },
  {
   "cell_type": "markdown",
   "metadata": {
    "colab_type": "text",
    "id": "OJc7hSFCZL2S"
   },
   "source": [
    "## Save the model"
   ]
  },
  {
   "cell_type": "code",
   "execution_count": 0,
   "metadata": {
    "colab": {},
    "colab_type": "code",
    "collapsed": true,
    "id": "ropGwIScZLG2"
   },
   "outputs": [],
   "source": [
    "# weight를 저장합니다.\n",
    "torch.save(model.state_dict(), 'model.ckpt')"
   ]
  },
  {
   "cell_type": "code",
   "execution_count": 0,
   "metadata": {
    "colab": {},
    "colab_type": "code",
    "collapsed": true,
    "id": "q_EkYclEZOT5"
   },
   "outputs": [],
   "source": []
  }
 ],
 "metadata": {
  "accelerator": "GPU",
  "colab": {
   "collapsed_sections": [],
   "name": "2_Classification_with_CNN(MNIST).ipynb",
   "provenance": [],
   "version": "0.3.2"
  },
  "kernelspec": {
   "display_name": "Python [default]",
   "language": "python",
   "name": "python3"
  },
  "language_info": {
   "codemirror_mode": {
    "name": "ipython",
    "version": 3
   },
   "file_extension": ".py",
   "mimetype": "text/x-python",
   "name": "python",
   "nbconvert_exporter": "python",
   "pygments_lexer": "ipython3",
   "version": "3.6.3"
  }
 },
 "nbformat": 4,
 "nbformat_minor": 1
}
