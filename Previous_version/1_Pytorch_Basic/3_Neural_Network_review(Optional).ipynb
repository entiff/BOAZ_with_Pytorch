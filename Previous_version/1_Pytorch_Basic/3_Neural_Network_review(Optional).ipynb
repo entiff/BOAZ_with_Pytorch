{
 "cells": [
  {
   "cell_type": "markdown",
   "metadata": {},
   "source": [
    "# Neural Networks(신경망)\n",
    "\n",
    "- 신경망은 torch.nn 패키지로 사용할 수 있습니다.\n",
    "\n",
    "- torch.nn 패키지는 모델을 정의하고 torch.autograd는 미분하는 데 사용합니다. \n",
    "- nn.Module은 layer와 output을 반환하는 forward(input)를 포함하고 있습니다. (순전파)\n",
    "\n",
    "![neuralnet](https://github.com/shwksl101/Pytorch-A-to-Z/blob/master/img/neuralnet.png?raw=true)\n",
    "\n",
    "- 모든 neural net 모델은 input을 받아 여러 layer에 차례로 값을 전달한 후 ouput을 제공합니다.\n",
    "\n",
    "일반적인 neural net 모델의 학습과정은 다음과 같습니다.\n",
    "\n",
    "- 1. parameter 또는 weight를 갖는 neural net 모델을 정의합니다.\n",
    "- 2. dataset에서 data를 가져와 input에 입력합니다.\n",
    "- 3. input값들을 모델에서 정의한 일련의 함수들에 따라 연산합니다.\n",
    "- 4. 정의된 loss function에서 loss를 계산합니다.\n",
    "- 5. backward propagation으로 neural net의 gradient를 계산합니다.\n",
    "- 6. neural net의 weight를 갱신합니다."
   ]
  },
  {
   "cell_type": "markdown",
   "metadata": {},
   "source": [
    "#### reference\n",
    "\n",
    "- [pytorch tutorial](http://pytorch.kr/)"
   ]
  },
  {
   "cell_type": "code",
   "execution_count": null,
   "metadata": {},
   "outputs": [],
   "source": []
  }
 ],
 "metadata": {
  "kernelspec": {
   "display_name": "Python 3",
   "language": "python",
   "name": "python3"
  },
  "language_info": {
   "codemirror_mode": {
    "name": "ipython",
    "version": 3
   },
   "file_extension": ".py",
   "mimetype": "text/x-python",
   "name": "python",
   "nbconvert_exporter": "python",
   "pygments_lexer": "ipython3",
   "version": "3.6.5"
  },
  "latex_envs": {
   "LaTeX_envs_menu_present": true,
   "autoclose": false,
   "autocomplete": true,
   "bibliofile": "biblio.bib",
   "cite_by": "apalike",
   "current_citInitial": 1,
   "eqLabelWithNumbers": true,
   "eqNumInitial": 1,
   "hotkeys": {
    "equation": "Ctrl-E",
    "itemize": "Ctrl-I"
   },
   "labels_anchors": false,
   "latex_user_defs": false,
   "report_style_numbering": false,
   "user_envs_cfg": false
  },
  "toc": {
   "base_numbering": 1,
   "nav_menu": {},
   "number_sections": false,
   "sideBar": true,
   "skip_h1_title": false,
   "title_cell": "Table of Contents",
   "title_sidebar": "Contents",
   "toc_cell": false,
   "toc_position": {
    "height": "calc(100% - 180px)",
    "left": "10px",
    "top": "150px",
    "width": "256px"
   },
   "toc_section_display": true,
   "toc_window_display": false
  },
  "varInspector": {
   "cols": {
    "lenName": 16,
    "lenType": 16,
    "lenVar": 40
   },
   "kernels_config": {
    "python": {
     "delete_cmd_postfix": "",
     "delete_cmd_prefix": "del ",
     "library": "var_list.py",
     "varRefreshCmd": "print(var_dic_list())"
    },
    "r": {
     "delete_cmd_postfix": ") ",
     "delete_cmd_prefix": "rm(",
     "library": "var_list.r",
     "varRefreshCmd": "cat(var_dic_list()) "
    }
   },
   "types_to_exclude": [
    "module",
    "function",
    "builtin_function_or_method",
    "instance",
    "_Feature"
   ],
   "window_display": false
  }
 },
 "nbformat": 4,
 "nbformat_minor": 2
}
