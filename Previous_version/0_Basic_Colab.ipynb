{
  "nbformat": 4,
  "nbformat_minor": 0,
  "metadata": {
    "colab": {
      "name": "0_Basic_Colab",
      "version": "0.3.2",
      "provenance": [],
      "collapsed_sections": [],
      "include_colab_link": true
    },
    "kernelspec": {
      "name": "python3",
      "display_name": "Python 3"
    }
  },
  "cells": [
    {
      "cell_type": "markdown",
      "metadata": {
        "id": "view-in-github",
        "colab_type": "text"
      },
      "source": [
        "<a href=\"https://colab.research.google.com/github/shwksl101/Pytorch-A-to-Z/blob/gangsss/0_Basic_Colab.ipynb\" target=\"_parent\"><img src=\"https://colab.research.google.com/assets/colab-badge.svg\" alt=\"Open In Colab\"/></a>"
      ]
    },
    {
      "metadata": {
        "id": "Q6pwNpV2X1UW",
        "colab_type": "text"
      },
      "cell_type": "markdown",
      "source": [
        "[변성윤님 블로그](https://zzsza.github.io/data/2018/08/30/google-colab/#ui)와 구글에서 제공하는 [Hello,Colaboratory](https://colab.research.google.com/notebooks/welcome.ipynb?hl=ko#scrollTo=nGXrezT31pvC)을 참고해서 작성했습니다 "
      ]
    },
    {
      "metadata": {
        "id": "MbmDuV53Byot",
        "colab_type": "text"
      },
      "cell_type": "markdown",
      "source": [
        "- 구글 Colaboratory(줄여서 colab)는 사이트에서설치가 필요 없이 완전히 클라우드에서 실행되는 무료 Jupyter노트 환경입니다.\n",
        "\n",
        "- colab노트는 해당 사용자의 구글 드라이브에 저장됩니다\n",
        "\n",
        "- colab 사용시 유의 해야하는 점은 작성한 코드가 전용 가상 머신에서 실행되며 가상 머신이 한동안 유휴 상태가 되면 재활용되며 시스템에 설정된 최대 수명이 적용됩니다\n",
        "\n",
        "- Colaboratory의 UI를 통해 지속적 또는 장기간 계산을 실행하고자 하는 사용자는 로컬 런타임을 사용하는 것이 좋습니다.\n",
        "\n",
        "- 로컬환경 혹은 google compute Engine 인스턴스 런타임에 연결하는 방법은  [여기](https://research.google.com/colaboratory/local-runtimes.html)에서 참고하시길 바랍니다.\n",
        "\n",
        "- 그 외의 기초적인 부분들은 위의 두 사이트에 잘 설명이 되어있으니 참고하시길 바랍니다.\n",
        "\n",
        "\n",
        "\n"
      ]
    },
    {
      "metadata": {
        "id": "5gsCEotYZWGj",
        "colab_type": "text"
      },
      "cell_type": "markdown",
      "source": [
        "1. Pytorch 설치\n",
        "  - pytorch는 설치가 되어있지 않기 때문에 설치를 해줘야한다\n",
        "  - \n",
        "```\n",
        "import torch\n",
        "``` 실행 시  ModuleNotFoundError: No module named 'torch'라는 에러와 함께 INSTALL TORCH버튼이 생성된다. 여기서 INSTALL TORCH버튼을 눌러 스니펫 코드\n",
        "(재사용 가능한 소스코드(검색가능) - colab에 설치되지 않은 설치 코드 검색시 유용)를 받아서 아래와 같이 설치를 한다.\n"
      ]
    },
    {
      "metadata": {
        "id": "fj230W1CaGWu",
        "colab_type": "code",
        "colab": {}
      },
      "cell_type": "code",
      "source": [
        "# http://pytorch.org/\n",
        "from os.path import exists\n",
        "from wheel.pep425tags import get_abbr_impl, get_impl_ver, get_abi_tag\n",
        "platform = '{}{}-{}'.format(get_abbr_impl(), get_impl_ver(), get_abi_tag())\n",
        "cuda_output = !ldconfig -p|grep cudart.so|sed -e 's/.*\\.\\([0-9]*\\)\\.\\([0-9]*\\)$/cu\\1\\2/'\n",
        "accelerator = cuda_output[0] if exists('/dev/nvidia0') else 'cpu'\n",
        "\n",
        "!pip install -q http://download.pytorch.org/whl/{accelerator}/torch-0.4.1-{platform}-linux_x86_64.whl torchvision\n",
        "import torch"
      ],
      "execution_count": 0,
      "outputs": []
    },
    {
      "metadata": {
        "id": "7BCvK-NlcURW",
        "colab_type": "text"
      },
      "cell_type": "markdown",
      "source": [
        "2. GPU 사용\n",
        "  - Colab의 가장 큰 장점 GPU 사용 가능\n",
        "  \n",
        "  - 처음 노트북 켰을 때는 기본설정이 GPU를 사용하지 않게 되어있으므로 설정을 해줘야한다.\n",
        "  \n",
        "  - 런타임 - 런타임 유형변경 - 하드웨어 가속기 변경 - GPU/TPU 선택"
      ]
    },
    {
      "metadata": {
        "id": "SRgacNWrjfQN",
        "colab_type": "code",
        "colab": {}
      },
      "cell_type": "code",
      "source": [
        "#GPU사용 확인\n",
        "if torch.cuda.is_available():\n",
        "  print('yes')"
      ],
      "execution_count": 0,
      "outputs": []
    },
    {
      "metadata": {
        "id": "bwNJEuG9ezhi",
        "colab_type": "text"
      },
      "cell_type": "markdown",
      "source": [
        "3. github에 있는 코드 바로 colab에서 실행해보기\n",
        "\n",
        "   - github의 코드를 바로 colab환경으로 가져와서 실행을 해볼수 있다.\n",
        "   \n",
        "   - 주소를 아래 처럼 바꿔주면 된다.\n",
        "   https://github.com/~~\n",
        "   을\n",
        "   https://colab.research.google.com/github/~~\n",
        "   로 바꿔주면된다.\n",
        "   \n",
        "   - (예시)\n",
        "   https://github.com/shwksl101/Pytorch-A-to-Z/blob/master/1_Pytorch_Basic/1_torch_package.ipynb\n",
        "   의 코드를 colab에서 실행하고 싶다면  https://colab.research.google.com/github/shwksl101/Pytorch-A-to-Z/blob/master/1_Pytorch_Basic/1_torch_package.ipynb\n",
        "   로 바꿔주면 된다.\n",
        "   "
      ]
    },
    {
      "metadata": {
        "id": "fbH78Iqnh1yC",
        "colab_type": "text"
      },
      "cell_type": "markdown",
      "source": [
        "4. github에 코드 바로 올리기\n",
        "\n",
        "  - 파일 - Github에 사본 저장하기 \n",
        "  \n",
        "  - 자신의 깃허브와 연결 해놓으면 바로 업로드 가능합니다.\n",
        "  \n",
        "  - branch도 설정가능!"
      ]
    },
    {
      "metadata": {
        "id": "qjw7gBSHidtq",
        "colab_type": "text"
      },
      "cell_type": "markdown",
      "source": [
        "5. Colab 공유하기\n",
        "  - 프로젝트 진행이나 많은 사람들과 같이 진행해야하는 코드 진행시 노트북을 쉽게 공유할 수 있다.\n",
        "  - Colab 우측 상단에 보면 공유버튼이 있다 이를 눌러 공유를 진행하면 된다.\n",
        "  - 공유하는 방법으로 세가지가 있는데 수정 가능, 댓글 작성가능, 보기 가능이 있다.\n",
        "  - 보기 가능으로 공유 받은 경우 파일 - 드라이브에 사본저장을 통해 코드 수정이 가능하다\n",
        "  - Google drive에서도 위와 같은 과정을 할 수 있다."
      ]
    },
    {
      "metadata": {
        "id": "_uiVoFWNk1Cc",
        "colab_type": "code",
        "colab": {}
      },
      "cell_type": "code",
      "source": [
        ""
      ],
      "execution_count": 0,
      "outputs": []
    },
    {
      "metadata": {
        "id": "yv21bO6qcTlF",
        "colab_type": "code",
        "colab": {}
      },
      "cell_type": "code",
      "source": [
        ""
      ],
      "execution_count": 0,
      "outputs": []
    },
    {
      "metadata": {
        "id": "th5VpIVSZ1r_",
        "colab_type": "text"
      },
      "cell_type": "markdown",
      "source": [
        ""
      ]
    },
    {
      "metadata": {
        "id": "133sOolSZ8kB",
        "colab_type": "code",
        "colab": {}
      },
      "cell_type": "code",
      "source": [
        ""
      ],
      "execution_count": 0,
      "outputs": []
    },
    {
      "metadata": {
        "id": "SkhN9j05Zp67",
        "colab_type": "text"
      },
      "cell_type": "markdown",
      "source": [
        "import pytorch"
      ]
    }
  ]
}