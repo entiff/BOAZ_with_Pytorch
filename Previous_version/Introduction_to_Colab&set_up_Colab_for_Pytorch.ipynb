{
  "nbformat": 4,
  "nbformat_minor": 0,
  "metadata": {
    "colab": {
      "name": "Introduction to Colab&set up Colab for Pytorch",
      "version": "0.3.2",
      "provenance": [],
      "collapsed_sections": [],
      "include_colab_link": true
    },
    "kernelspec": {
      "name": "python3",
      "display_name": "Python 3"
    }
  },
  "cells": [
    {
      "cell_type": "markdown",
      "metadata": {
        "id": "view-in-github",
        "colab_type": "text"
      },
      "source": [
        "[View in Colaboratory](https://colab.research.google.com/github/shwksl101/Pytorch-A-to-Z/blob/gangsss/Introduction_to_Colab&set_up_Colab_for_Pytorch.ipynb)"
      ]
    },
    {
      "metadata": {
        "id": "fm9Gv3J0BhlY",
        "colab_type": "code",
        "colab": {}
      },
      "cell_type": "code",
      "source": [
        ""
      ],
      "execution_count": 0,
      "outputs": []
    },
    {
      "metadata": {
        "id": "MbmDuV53Byot",
        "colab_type": "text"
      },
      "cell_type": "markdown",
      "source": [
        "\n",
        "구글에서 제공하는 Hello,Colaboratory을 참고해서 작성했습니다\n",
        "(https://colab.research.google.com/notebooks/welcome.ipynb?hl=ko)\n",
        "\n",
        "\n",
        "- 구글 Colaboratory(줄여서 colab)는 사이트에서도 설명하는 것처럼 설치가 필요 없고 완전히 클라우드에서 실행되는 무료 Jupyter노트 환경입니다.\n",
        "\n",
        "- colab노트는 해당 사용자의 구글 드라이브에 저장됩니다\n",
        "\n",
        "- colab 사용시 유의 해야하는 점은 작성한 코드가 전용 가상 머신에서 실행되며 가상 머신이 한동안 유휴 상태가 되면 재활용되며 시스템에 설정된 최대 수명이 적용됩니다\n",
        "\n",
        "- Colaboratory의 UI를 통해 지속적 또는 장기간 계산을 실행하고자 하는 사용자는 로컬 런타임을 사용하는 것이 좋습니다.\n",
        "\n",
        "- 로컬환경 혹은 google compute Engine 인스턴스 런타임에 연결하는 방법은 여기(https://research.google.com/colaboratory/local-runtimes.htm)l에서 참고하시길 바랍니다.\n",
        "\n",
        "\n",
        "\n"
      ]
    }
  ]
}