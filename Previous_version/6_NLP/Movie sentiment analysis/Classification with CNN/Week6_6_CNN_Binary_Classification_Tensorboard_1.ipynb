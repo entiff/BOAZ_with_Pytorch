{
 "cells": [
  {
   "cell_type": "markdown",
   "metadata": {},
   "source": [
    "## Sentiment Analysis for Korean Movie Review Data"
   ]
  },
  {
   "cell_type": "markdown",
   "metadata": {},
   "source": [
    "## 1. Load Pickle File"
   ]
  },
  {
   "cell_type": "code",
   "execution_count": 1,
   "metadata": {},
   "outputs": [],
   "source": [
    "import pickle\n",
    "\n",
    "with open(\"movie_data.pickle\", \"rb\") as f:\n",
    "    movie_data = pickle.load(f)"
   ]
  },
  {
   "cell_type": "code",
   "execution_count": 2,
   "metadata": {},
   "outputs": [
    {
     "data": {
      "text/plain": [
       "dict_keys(['reviews', 'scores', 'reviews_ix', 'word2ix', 'ix2word', 'max_seq_length'])"
      ]
     },
     "execution_count": 2,
     "metadata": {},
     "output_type": "execute_result"
    }
   ],
   "source": [
    "movie_data.keys()"
   ]
  },
  {
   "cell_type": "code",
   "execution_count": 3,
   "metadata": {
    "collapsed": true
   },
   "outputs": [],
   "source": [
    "reviews = movie_data[\"reviews\"]\n",
    "scores = movie_data[\"scores\"]\n",
    "reviews_ix = movie_data[\"reviews_ix\"]\n",
    "word2ix = movie_data[\"word2ix\"]\n",
    "ix2word = movie_data[\"ix2word\"]\n",
    "max_seq_length = movie_data[\"max_seq_length\"]"
   ]
  },
  {
   "cell_type": "code",
   "execution_count": 4,
   "metadata": {
    "collapsed": true
   },
   "outputs": [],
   "source": [
    "for i, score in enumerate(scores):\n",
    "    if score <= 6:\n",
    "        scores[i] = 0\n",
    "    else:\n",
    "        scores[i] = 1"
   ]
  },
  {
   "cell_type": "code",
   "execution_count": 5,
   "metadata": {},
   "outputs": [
    {
     "data": {
      "text/plain": [
       "Counter({1: 1138, 0: 689})"
      ]
     },
     "execution_count": 5,
     "metadata": {},
     "output_type": "execute_result"
    }
   ],
   "source": [
    "from collections import Counter\n",
    "Counter(scores)"
   ]
  },
  {
   "cell_type": "markdown",
   "metadata": {},
   "source": [
    "## 2. load Word2Vec model"
   ]
  },
  {
   "cell_type": "code",
   "execution_count": 6,
   "metadata": {
    "collapsed": true
   },
   "outputs": [],
   "source": [
    "from gensim.models import Word2Vec\n",
    "model = Word2Vec.load('word2vec.model')"
   ]
  },
  {
   "cell_type": "markdown",
   "metadata": {},
   "source": [
    "## 3. Prepare Trian / Test Datasets"
   ]
  },
  {
   "cell_type": "code",
   "execution_count": 7,
   "metadata": {
    "collapsed": true
   },
   "outputs": [],
   "source": [
    "from sklearn.model_selection import train_test_split\n",
    "\n",
    "X_train, X_test, y_train, y_test = train_test_split(reviews_ix, \n",
    "                                                    scores, \n",
    "                                                    test_size=0.3, \n",
    "                                                    random_state=777)"
   ]
  },
  {
   "cell_type": "code",
   "execution_count": 8,
   "metadata": {
    "collapsed": true
   },
   "outputs": [],
   "source": [
    "X_train, X_dev, y_train, y_dev = train_test_split(X_train, \n",
    "                                                  y_train, \n",
    "                                                  test_size=0.1, \n",
    "                                                  random_state=777)"
   ]
  },
  {
   "cell_type": "code",
   "execution_count": 9,
   "metadata": {},
   "outputs": [
    {
     "data": {
      "text/plain": [
       "1827"
      ]
     },
     "execution_count": 9,
     "metadata": {},
     "output_type": "execute_result"
    }
   ],
   "source": [
    "len(reviews_ix)"
   ]
  },
  {
   "cell_type": "code",
   "execution_count": 10,
   "metadata": {},
   "outputs": [
    {
     "data": {
      "text/plain": [
       "1150"
      ]
     },
     "execution_count": 10,
     "metadata": {},
     "output_type": "execute_result"
    }
   ],
   "source": [
    "len(X_train)"
   ]
  },
  {
   "cell_type": "code",
   "execution_count": 11,
   "metadata": {},
   "outputs": [
    {
     "data": {
      "text/plain": [
       "128"
      ]
     },
     "execution_count": 11,
     "metadata": {},
     "output_type": "execute_result"
    }
   ],
   "source": [
    "len(X_dev)"
   ]
  },
  {
   "cell_type": "code",
   "execution_count": 12,
   "metadata": {
    "scrolled": false
   },
   "outputs": [
    {
     "data": {
      "text/plain": [
       "549"
      ]
     },
     "execution_count": 12,
     "metadata": {},
     "output_type": "execute_result"
    }
   ],
   "source": [
    "len(X_test)"
   ]
  },
  {
   "cell_type": "code",
   "execution_count": 13,
   "metadata": {
    "collapsed": true
   },
   "outputs": [],
   "source": [
    "from torch.utils.data import Dataset\n",
    "from torch.utils.data import DataLoader\n",
    "import numpy as np\n",
    "\n",
    "class Dataset(Dataset):\n",
    "    def __init__(self, X_data, y_data):\n",
    "        self.X_data = X_data\n",
    "        self.y_data = y_data\n",
    "        \n",
    "    def __getitem__(self, index):\n",
    "        return self.X_data[index], self.y_data[index]\n",
    "        \n",
    "    def __len__ (self):\n",
    "        return len(self.X_data)\n",
    "\n",
    "# 여기서 tensor로는 넣지 말 것, array가 더 나음    \n",
    "train_data = Dataset(np.array(X_train), y_train)\n",
    "dev_data = Dataset(np.array(X_dev), y_dev)"
   ]
  },
  {
   "cell_type": "markdown",
   "metadata": {},
   "source": [
    "## 4. Prepare Embedding Matrix"
   ]
  },
  {
   "cell_type": "code",
   "execution_count": 14,
   "metadata": {},
   "outputs": [
    {
     "name": "stdout",
     "output_type": "stream",
     "text": [
      "5982\n",
      "5982\n"
     ]
    },
    {
     "name": "stderr",
     "output_type": "stream",
     "text": [
      "/home/gyuwonable/anaconda3/envs/pt-latest/lib/python3.6/site-packages/ipykernel/__main__.py:9: DeprecationWarning: Call to deprecated `__getitem__` (Method will be removed in 4.0.0, use self.wv.__getitem__() instead).\n"
     ]
    }
   ],
   "source": [
    "import torch\n",
    "\n",
    "device = torch.device('cuda:0' if torch.cuda.is_available() else 'cpu')\n",
    "\n",
    "embedding_matrix = []\n",
    "\n",
    "for word in word2ix.keys():\n",
    "    try:\n",
    "        embedding_matrix.append(model[word])\n",
    "    except:\n",
    "        embedding_matrix.append(np.zeros(100))\n",
    "\n",
    "print(len(word2ix))\n",
    "print(len(embedding_matrix))\n",
    "\n",
    "embedding_matrix = torch.Tensor(embedding_matrix)"
   ]
  },
  {
   "cell_type": "code",
   "execution_count": 15,
   "metadata": {},
   "outputs": [
    {
     "data": {
      "text/plain": [
       "tensor([0., 0., 0., 0., 0., 0., 0., 0., 0., 0., 0., 0., 0., 0., 0., 0., 0., 0.,\n",
       "        0., 0., 0., 0., 0., 0., 0., 0., 0., 0., 0., 0., 0., 0., 0., 0., 0., 0.,\n",
       "        0., 0., 0., 0., 0., 0., 0., 0., 0., 0., 0., 0., 0., 0., 0., 0., 0., 0.,\n",
       "        0., 0., 0., 0., 0., 0., 0., 0., 0., 0., 0., 0., 0., 0., 0., 0., 0., 0.,\n",
       "        0., 0., 0., 0., 0., 0., 0., 0., 0., 0., 0., 0., 0., 0., 0., 0., 0., 0.,\n",
       "        0., 0., 0., 0., 0., 0., 0., 0., 0., 0.])"
      ]
     },
     "execution_count": 15,
     "metadata": {},
     "output_type": "execute_result"
    }
   ],
   "source": [
    "embedding_matrix[0] #<PAD>"
   ]
  },
  {
   "cell_type": "code",
   "execution_count": 16,
   "metadata": {},
   "outputs": [
    {
     "name": "stdout",
     "output_type": "stream",
     "text": [
      "자가/Noun\n",
      "tensor([ 0.0457,  0.2863,  0.1584, -0.2280,  0.3399,  0.5188, -0.1892,  0.0012,\n",
      "         0.0902,  0.0804,  0.0565,  0.0179,  0.1807,  0.2784, -0.0129,  0.0499,\n",
      "         0.1685,  0.0106,  0.1513, -0.0043, -0.4650,  0.1250,  0.4412, -0.1720,\n",
      "        -0.1823,  0.5343, -0.0155,  0.4647, -0.0782, -0.1674,  0.0878,  0.2256,\n",
      "        -0.3060, -0.2599, -0.3809,  0.0017, -0.2124, -0.1787, -0.3202, -0.1626,\n",
      "         0.0439, -0.0524,  0.1458, -0.2895,  0.3095, -0.4761,  0.1152, -0.2603,\n",
      "        -0.1557,  0.0177, -0.1418, -0.0305,  0.0217,  0.5578,  0.1623, -0.0064,\n",
      "         0.2204, -0.3902, -0.0899, -0.0673,  0.0064, -0.3541,  0.1090,  0.2966,\n",
      "        -0.0477,  0.2387, -0.4078, -0.0144,  0.0955, -0.3711,  0.1420,  0.2721,\n",
      "         0.0743, -0.1678, -0.0891, -0.0016,  0.3909, -0.2036,  0.0517,  0.1920,\n",
      "         0.0964,  0.1253,  0.1749, -0.2563, -0.1837, -0.2182,  0.2514, -0.2555,\n",
      "         0.1615,  0.1022,  0.1005,  0.2121, -0.4298, -0.0241,  0.1238,  0.0650,\n",
      "        -0.0466, -0.1136, -0.1073, -0.2301])\n",
      "[ 0.04567292  0.28632575  0.158449   -0.22797294  0.3399323   0.5187619\n",
      " -0.1892465   0.0011958   0.09015043  0.08037443  0.05646582  0.01785681\n",
      "  0.1807238   0.27843025 -0.01293882  0.04989245  0.16853231  0.01060871\n",
      "  0.15126023 -0.0042878  -0.4649902   0.12496583  0.4412184  -0.17199454\n",
      " -0.1823187   0.5343223  -0.01548502  0.46473178 -0.07821463 -0.16738488\n",
      "  0.08777408  0.22560535 -0.30596542 -0.25990036 -0.3809136   0.00165787\n",
      " -0.21237637 -0.17873286 -0.32019785 -0.16263951  0.04388074 -0.05240726\n",
      "  0.14580937 -0.2895394   0.30947164 -0.47609565  0.11518539 -0.26028663\n",
      " -0.15567535  0.01767164 -0.14183828 -0.03049738  0.02168114  0.5577661\n",
      "  0.16225024 -0.00637382  0.22040933 -0.3901868  -0.08990723 -0.06727579\n",
      "  0.0064271  -0.35406384  0.10898235  0.2965586  -0.04773572  0.23866671\n",
      " -0.40782794 -0.01442901  0.09552313 -0.37105107  0.14198196  0.27210328\n",
      "  0.07426934 -0.16780053 -0.08910521 -0.00155505  0.39094445 -0.2035675\n",
      "  0.05170301  0.19196342  0.09639666  0.12525237  0.1749467  -0.25628835\n",
      " -0.18368502 -0.21824895  0.2514281  -0.25553492  0.16147965  0.10216648\n",
      "  0.10047241  0.21212223 -0.42980948 -0.0241062   0.12377699  0.06503193\n",
      " -0.04661775 -0.11362192 -0.10726191 -0.23011309]\n"
     ]
    },
    {
     "name": "stderr",
     "output_type": "stream",
     "text": [
      "/home/gyuwonable/anaconda3/envs/pt-latest/lib/python3.6/site-packages/ipykernel/__main__.py:4: DeprecationWarning: Call to deprecated `__getitem__` (Method will be removed in 4.0.0, use self.wv.__getitem__() instead).\n"
     ]
    }
   ],
   "source": [
    "index = 12\n",
    "print(ix2word[index])\n",
    "print(embedding_matrix[index])\n",
    "print(model[ix2word[index]])"
   ]
  },
  {
   "cell_type": "markdown",
   "metadata": {},
   "source": [
    "## 5. Modeling\n",
    "\n",
    "#### 5. CNN + nn.Embedding + word2vec"
   ]
  },
  {
   "cell_type": "code",
   "execution_count": 17,
   "metadata": {
    "collapsed": true
   },
   "outputs": [],
   "source": [
    "import torch\n",
    "import torch.nn as nn\n",
    "import torch.nn.functional as F\n",
    "from torch.autograd import Variable\n",
    "import torch.optim as optim\n",
    "torch.manual_seed(777);"
   ]
  },
  {
   "cell_type": "code",
   "execution_count": 18,
   "metadata": {},
   "outputs": [
    {
     "data": {
      "text/plain": [
       "True"
      ]
     },
     "execution_count": 18,
     "metadata": {},
     "output_type": "execute_result"
    }
   ],
   "source": [
    "torch.cuda.is_available()"
   ]
  },
  {
   "cell_type": "code",
   "execution_count": 19,
   "metadata": {},
   "outputs": [],
   "source": [
    "class CNN_Clf(nn.Module):\n",
    "    def __init__(self, vocab_size, embed_size, output_size, embedding_matrix):\n",
    "        super(CNN_Clf, self).__init__()\n",
    "#         self.embed = nn.Embedding.from_pretrained(embedding_matrix, freeze=False) # True is Default\n",
    "        self.embed = nn.Embedding.from_pretrained(embedding_matrix)\n",
    "#         torch.nn.Conv1d(in_channels, out_channels, kernel_size, stride=1, padding=0, dilation=1, groups=1, bias=True)\n",
    "        \n",
    "        self.conv_1d_1 = nn.Sequential(\n",
    "                            nn.Conv1d(1, out_chs, embed_size*filter_sizes[0]),\n",
    "                            nn.Tanh()\n",
    "                            #, nn.MaxPool1d((max_seq_length-filter_sizes[0])*batch_size + 1)\n",
    "                        )\n",
    "        \n",
    "        self.conv_1d_2 = nn.Sequential(\n",
    "                            nn.Conv1d(1, out_chs, embed_size*filter_sizes[1]),\n",
    "                            nn.Tanh()\n",
    "                            #, nn.MaxPool1d((max_seq_length-filter_sizes[1])*batch_size + 1)\n",
    "                        ) \n",
    "        self.conv_1d_3 = nn.Sequential(\n",
    "                            nn.Conv1d(1, out_chs, embed_size*filter_sizes[2]),\n",
    "                            nn.Tanh()\n",
    "                            #, nn.MaxPool1d((max_seq_length-filter_sizes[2])*batch_size + 1)\n",
    "                        )\n",
    "        \n",
    "#         self.conv_layer = nn.ModuleList([nn.Conv1d(1, out_chs, embed_size*fs) for fs in filter_sizes]) \n",
    "\n",
    "        self.dropout = nn.Dropout(DR_rate)\n",
    "        \n",
    "        self.fc_layer = nn.Linear(out_chs*len(filter_sizes), output_size)\n",
    "            \n",
    "    def forward(self, inputs):\n",
    "        embed = self.embed(inputs)\n",
    "#         print(embed.size()) => (batch_size, seq_len, embed_size) => (50, 113, 100)\n",
    "\n",
    "        embed_cat = embed.reshape(batch_size, 1, -1)\n",
    "#         print(embed_cat.size()) => (batch_size, 1, seq_len*embed_size) => (50, 1, 11300)\n",
    "\n",
    "        x = [self.conv_1d_1(embed_cat), self.conv_1d_2(embed_cat), self.conv_1d_3(embed_cat)]\n",
    "#         print(x[0].size()) => (batch_size, out_chs, feature_map_size)\n",
    "#                            => feature_map_size = (seq_len - filter_size)*embed_size + 1 default 세팅에서의 값 계산\n",
    "#                            => (113-3)*100 + 1 = 11001\n",
    "#                            => (50, 100, 11001)\n",
    "#                            \n",
    "\n",
    "#         print(x[1].size()) => (batch_size, out_chs, feature_map_size)\n",
    "#                            => feature_map_size = (seq_len - filter_size)*embed_size + 1 \n",
    "#                            => (113-4)*100 + 1 = 10901\n",
    "#                            => (50, 100, 10901)\n",
    "#                           \n",
    "\n",
    "#         print(x[2].size()) => (batch_size, out_chs, feature_map_size)\n",
    "#                            => feature_map_size = (seq_len - filter_size)*embed_size + 1 \n",
    "#                            => (113-5)*100 + 1 = 10801\n",
    "#                            => (50, 100, 10801)\n",
    "#   \n",
    "        x = [F.max_pool1d(conv, (conv.size(2), )).squeeze(2) for conv in x]\n",
    "#         print(x[0].size()) => (50, 100)\n",
    "#         print(x[1].size()) => (50, 100)\n",
    "#         print(x[2].size()) => (50, 100)\n",
    "\n",
    "        x = torch.cat(x, 1)\n",
    "#         print(x.size()) => (50, 300)\n",
    "        \n",
    "\n",
    "        x = self.dropout(x)\n",
    "        x = self.fc_layer(x)\n",
    "#         print(x.size()) => (50, 2)\n",
    "\n",
    "        x = F.softmax(x ,dim=1)\n",
    "#         print(x.size()) => (50, 2)\n",
    "\n",
    "        return x\n",
    "      \n",
    "    def predict(self, inputs, test_batch_size):\n",
    "        embed = self.embed(inputs)\n",
    "        embed_cat = embed.reshape(test_batch_size, 1, -1)        \n",
    "        x = [self.conv_1d_1(embed_cat), self.conv_1d_2(embed_cat), self.conv_1d_3(embed_cat)]\n",
    "        x = [F.max_pool1d(conv, (conv.size(2), )).squeeze(2) for conv in x]\n",
    "\n",
    "        x = torch.cat(x, 1)\n",
    "        x = self.fc_layer(x)\n",
    "        x = F.softmax(x, dim=1)\n",
    "        \n",
    "        return x"
   ]
  },
  {
   "cell_type": "code",
   "execution_count": 21,
   "metadata": {},
   "outputs": [],
   "source": [
    " def pad_sequence(batch):\n",
    "        X_batch, y_batch = zip(*batch)\n",
    "        max_seq_length = max([len(x) for x in X_batch])\n",
    "        if max_seq_length < max(filter_sizes):\n",
    "            max_seq_length = max(filter_sizes)\n",
    "\n",
    "        res = []\n",
    "        for seq in X_batch:\n",
    "            if len(seq) < max_seq_length:\n",
    "                pad_seq = torch.LongTensor(seq + [0]*(max_seq_length-len(seq)))\n",
    "                res.append(pad_seq)\n",
    "            else:\n",
    "                res.append(torch.LongTensor(seq))\n",
    "        return torch.cat(res).reshape(batch_size, max_seq_length), torch.LongTensor(y_batch)"
   ]
  },
  {
   "cell_type": "code",
   "execution_count": 22,
   "metadata": {
    "scrolled": false
   },
   "outputs": [
    {
     "name": "stderr",
     "output_type": "stream",
     "text": [
      "/home/gyuwonable/anaconda3/envs/pt-latest/lib/python3.6/site-packages/torch/onnx/symbolic.py:69: UserWarning: ONNX export failed on max_pool1d_with_indices because ceil_mode not supported\n",
      "  warnings.warn(\"ONNX export failed on \" + op + \" because \" + msg + \" not supported\")\n"
     ]
    },
    {
     "name": "stdout",
     "output_type": "stream",
     "text": [
      "epoch: 0\n",
      "train_acc: 0.278 (320/1150)\n",
      "val_acc: 0.344 (44/128)\n",
      "avg_train_loss: 0.704\n",
      "avg_val_loss: 0.702\n",
      "==========================================================\n"
     ]
    },
    {
     "ename": "KeyboardInterrupt",
     "evalue": "",
     "output_type": "error",
     "traceback": [
      "\u001b[0;31m---------------------------------------------------------------------------\u001b[0m",
      "\u001b[0;31mKeyboardInterrupt\u001b[0m                         Traceback (most recent call last)",
      "\u001b[0;32m<timed exec>\u001b[0m in \u001b[0;36m<module>\u001b[0;34m\u001b[0m\n",
      "\u001b[0;31mKeyboardInterrupt\u001b[0m: "
     ]
    }
   ],
   "source": [
    "%%time\n",
    "from tensorboardX import SummaryWriter\n",
    "\n",
    "EPOCHS = 1000\n",
    "LR = 1.0 # Adadelta default learning_rate is 1.0\n",
    "batch_size = 50\n",
    "filter_sizes = [3, 4, 5]\n",
    "DR_rate = 0.5\n",
    "out_chs = 100\n",
    "\n",
    "writer = SummaryWriter('./log_files_1/')\n",
    "\n",
    "model = CNN_Clf(len(word2ix), 100, 2, embedding_matrix).to(device)\n",
    "\n",
    "# Add_Graph to Tensorboard - 그림을 그리기 위해 저장\n",
    "dummy_input = Variable(torch.zeros(batch_size, max_seq_length).long()).to(device)\n",
    "writer.add_graph(model, dummy_input)\n",
    "\n",
    "# Add_Embedding to Tensorboard\n",
    "word_labels = [ix2word[i] for i in range(len(ix2word))]\n",
    "writer.add_embedding(model.embed.weight.data, metadata=word_labels)    \n",
    "\n",
    "# weighted CrossEntropyLoss\n",
    "# Approximately 1/2 negative_data per 1 positive data\n",
    "# criterion = nn.CrossEntropyLoss(weight=torch.Tensor([2.0, 1.0]).to(device))\n",
    "\n",
    "# crossentropyloss에 weight를 쓸 수 있다.\n",
    "criterion = nn.CrossEntropyLoss(weight=torch.Tensor([1.5, 1.0]).to(device))\n",
    "optimizer = optim.Adadelta(model.parameters(),lr=LR, weight_decay=1e-5) # use L2-Norm\n",
    "\n",
    "# collate_fn 찾아보기\n",
    "train_loader = DataLoader(dataset=train_data, batch_size=batch_size, shuffle=True, collate_fn=pad_sequence)\n",
    "dev_loader = DataLoader(dataset=dev_data, batch_size=1, shuffle=False)\n",
    "\n",
    "for epoch in range(EPOCHS):\n",
    "    train_correct = 0\n",
    "    train_count = 0\n",
    "    train_loss = 0\n",
    "    val_correct = 0\n",
    "    val_count = 0\n",
    "    val_loss = 0\n",
    "    \n",
    "    \n",
    "    # Training\n",
    "    model = model.train()\n",
    "    \n",
    "    for X_batch, y_batch in train_loader:\n",
    "        model.zero_grad()\n",
    "        inputs = Variable(X_batch).to(device)\n",
    "        targets = Variable(y_batch).to(device)\n",
    "        \n",
    "        preds = model(inputs)\n",
    "     \n",
    "        loss = criterion(preds, targets)\n",
    "        train_loss += loss.item()\n",
    "        \n",
    "        # 요기 틀림\n",
    "        compare = torch.max(preds, 1)[1]*targets\n",
    "        \n",
    "        train_correct += torch.sum(compare).item()\n",
    "        train_count += X_batch.size(0)\n",
    "        \n",
    "        loss.backward()\n",
    "        optimizer.step()\n",
    "    \n",
    "    train_acc = train_correct/train_count\n",
    "    avg_train_loss = train_loss/(train_count/batch_size)\n",
    "    \n",
    "    # Validation\n",
    "\n",
    "    model = model.eval()\n",
    "    with torch.no_grad():          \n",
    "        for X_batch, y_batch in dev_loader:\n",
    "            val_count += 1         \n",
    "            if len(X_batch) < max(filter_sizes):\n",
    "                X_batch = torch.LongTensor(X_batch + [word2ix.get(\"<PAD>\")]*(max(filter_sizes)-len(X_batch))).to(device)\n",
    "            else:\n",
    "                X_batch = torch.LongTensor(X_batch).to(device)\n",
    "            input = Variable(X_batch).to(device)\n",
    "            target = Variable(torch.LongTensor(y_batch)).to(device)\n",
    "            pred = model.predict(input, test_batch_size=1)\n",
    "\n",
    "            loss = criterion(pred, target)\n",
    "            val_loss += loss.item()\n",
    "\n",
    "            _, pred = torch.max(pred, 1)\n",
    "            true = y_batch.item()\n",
    "            if true == pred.item():\n",
    "                val_correct +=1\n",
    "                          \n",
    "        val_acc = val_correct/val_count\n",
    "        avg_val_loss = val_loss/val_count\n",
    "\n",
    "# tensor board에서 볼 수 있음        \n",
    "    writer.add_scalars('Compare/train-val acc', {'Train Acc': train_acc,\n",
    "                                                    'Val Acc': val_acc}, epoch)\n",
    "    \n",
    "    writer.add_scalars('Compare/train-val losses', {'Train Loss': avg_train_loss,\n",
    "                                                    'Val Loss': avg_val_loss}, epoch)\n",
    "    \n",
    "    if epoch % 100 == 0 or epoch == (EPOCHS-1):\n",
    "        print('epoch: {:d}'.format(epoch))\n",
    "        print('train_acc: {:.3f} ({:d}/{:d})'.format(train_acc, train_correct, train_count))\n",
    "        print('val_acc: {:.3f} ({:d}/{:d})'.format(val_acc, val_correct, val_count))\n",
    "        print('avg_train_loss: {:.3f}'.format(avg_train_loss))        \n",
    "        print('avg_val_loss: {:.3f}'.format(avg_val_loss))\n",
    "        print(\"==========================================================\")\n",
    "\n",
    "writer.close()"
   ]
  },
  {
   "cell_type": "code",
   "execution_count": 23,
   "metadata": {
    "scrolled": true
   },
   "outputs": [
    {
     "name": "stdout",
     "output_type": "stream",
     "text": [
      "Input : ['후반/Noun', '쫄렸다/Noun']\n",
      "Prediction : 0\n",
      "Truth : 1\n",
      "\n",
      "\n",
      "Input : ['감동/Noun', '영화/Noun', '보고/Noun', '운/Noun', '거의/Noun', '애니메이션/Noun', '보면서/Verb', '울줄/Verb', '몰랐네요/Verb', 'ㅜ/KoreanParticle', '감동/Noun', 'ㅜㅜ/KoreanParticle']\n",
      "Prediction : 1\n",
      "Truth : 1\n",
      "\n",
      "\n",
      "Input : ['스토리/Noun', '별로/Noun', '노래/Noun']\n",
      "Prediction : 1\n",
      "Truth : 1\n",
      "\n",
      "\n",
      "Input : ['히어로/Noun', '물/Noun', '찍어도/Verb', '될/Verb', '정도/Noun', '그래픽/Noun', '본/Verb', '한국영/Noun', '화의/Noun', '희망/Noun', '이야기/Noun', '거기/Noun']\n",
      "Prediction : 0\n",
      "Truth : 0\n",
      "\n",
      "\n",
      "Input : ['보통/Noun', '서로/Noun', '아는/Verb', '상황/Noun', '주먹/Noun', '메/Noun', '쳐서/Verb', '다른/Noun', '격방/Noun', '시도/Noun', '하는게/Verb', '정상/Noun', '로메/Noun', '쳐/Verb', '대는게/Verb', '인상/Noun', '또/Noun', '와칸/Noun', '다인/Noun', '가에서/Verb', '개때/Noun', '닥치는데/Verb', '굳이/Noun', '칼/Noun', '빼/Noun', '일일이/Noun', '상대/Noun', '하는것도/Verb', '졸/Noun', '인상/Noun', '과거/Noun', '마징/Noun', '가가/Noun', '싸우다가/Verb', '죽기/Verb', '직전/Noun', '가슴/Noun', '원자력/Noun', '빔/Noun', '쏴서/Verb', '이기는거/Verb', '배운듯/Verb']\n",
      "Prediction : 1\n",
      "Truth : 0\n",
      "\n",
      "\n",
      "Input : ['평론가/Noun', '의미/Noun', '평론/Noun', '하지만/Verb', '년/Noun', '동안/Noun', '봐/Verb', '온/Noun', '영화/Noun', '가장/Noun', '눈/Noun', '귀가/Noun', '마음/Noun', '또/Noun', '보고싶다/Verb']\n",
      "Prediction : 1\n",
      "Truth : 1\n",
      "\n",
      "\n",
      "test_acc: 0.679 (373/549)\n"
     ]
    }
   ],
   "source": [
    "test_correct = 0\n",
    "test_count = len(X_test)\n",
    "model = model.eval()\n",
    "for i, seq in enumerate(X_test):\n",
    "    if len(seq) < max(filter_sizes):\n",
    "        seq = seq + [word2ix.get(\"<PAD>\")]*(max(filter_sizes)-len(seq))\n",
    "    input = Variable(torch.LongTensor(seq).view(1,-1)).to(device)\n",
    "    pred = model.predict(input, test_batch_size=1)\n",
    "    _, pred = torch.max(pred, 1)\n",
    "    \n",
    "    true = y_test[i]\n",
    "    if true == pred.item():\n",
    "        test_correct +=1\n",
    "    \n",
    "    if i%100 == 0:\n",
    "        input_seq = [ix2word.get(ix) for ix in seq if ix != 0]\n",
    "        print(\"Input :\", input_seq)\n",
    "        print(\"Prediction :\", pred.item())\n",
    "        print(\"Truth :\",y_test[i])\n",
    "        print(\"\\n\")\n",
    "\n",
    "test_acc = test_correct / test_count\n",
    "\n",
    "print('test_acc: {:.3f} ({:d}/{:d})'.format(test_acc, test_correct, test_count))"
   ]
  }
 ],
 "metadata": {
  "anaconda-cloud": {},
  "kernelspec": {
   "display_name": "Python 3",
   "language": "python",
   "name": "python3"
  },
  "language_info": {
   "codemirror_mode": {
    "name": "ipython",
    "version": 3
   },
   "file_extension": ".py",
   "mimetype": "text/x-python",
   "name": "python",
   "nbconvert_exporter": "python",
   "pygments_lexer": "ipython3",
   "version": "3.6.5"
  },
  "latex_envs": {
   "LaTeX_envs_menu_present": true,
   "autoclose": false,
   "autocomplete": true,
   "bibliofile": "biblio.bib",
   "cite_by": "apalike",
   "current_citInitial": 1,
   "eqLabelWithNumbers": true,
   "eqNumInitial": 1,
   "hotkeys": {
    "equation": "Ctrl-E",
    "itemize": "Ctrl-I"
   },
   "labels_anchors": false,
   "latex_user_defs": false,
   "report_style_numbering": false,
   "user_envs_cfg": false
  },
  "toc": {
   "base_numbering": 1,
   "nav_menu": {},
   "number_sections": true,
   "sideBar": true,
   "skip_h1_title": false,
   "title_cell": "Table of Contents",
   "title_sidebar": "Contents",
   "toc_cell": false,
   "toc_position": {},
   "toc_section_display": true,
   "toc_window_display": false
  },
  "varInspector": {
   "cols": {
    "lenName": 16,
    "lenType": 16,
    "lenVar": 40
   },
   "kernels_config": {
    "python": {
     "delete_cmd_postfix": "",
     "delete_cmd_prefix": "del ",
     "library": "var_list.py",
     "varRefreshCmd": "print(var_dic_list())"
    },
    "r": {
     "delete_cmd_postfix": ") ",
     "delete_cmd_prefix": "rm(",
     "library": "var_list.r",
     "varRefreshCmd": "cat(var_dic_list()) "
    }
   },
   "types_to_exclude": [
    "module",
    "function",
    "builtin_function_or_method",
    "instance",
    "_Feature"
   ],
   "window_display": false
  }
 },
 "nbformat": 4,
 "nbformat_minor": 2
}
