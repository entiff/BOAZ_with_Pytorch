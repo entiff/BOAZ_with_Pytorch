{
 "cells": [
  {
   "cell_type": "code",
   "execution_count": 1,
   "metadata": {},
   "outputs": [],
   "source": [
    "import torch\n",
    "import torch.nn as nn\n",
    "import torch.nn.functional as F"
   ]
  },
  {
   "cell_type": "code",
   "execution_count": 2,
   "metadata": {},
   "outputs": [],
   "source": [
    "e0 = [0.1, 0.2, 0.3] # 매우\n",
    "e1 = [0.2, 0.3, 0.4] # 재밌는\n",
    "e2 = [0.3, 0.4, 0.5] # 딥러닝\n",
    "e3 = [0.4, 0.5, 0.6] # 시간\n",
    "\n",
    "embedding_matrix = torch.Tensor([e0, e1, e2, e3])\n",
    "\n",
    "seq = [\"매우\", \"재밌는\", \"딥러닝\", \"시간\"]\n",
    "seq_ix = [0, 1, 2, 3]"
   ]
  },
  {
   "cell_type": "code",
   "execution_count": 3,
   "metadata": {},
   "outputs": [
    {
     "data": {
      "text/plain": [
       "tensor([[[ 0.1000,  0.2000,  0.3000,  0.2000,  0.3000,  0.4000,  0.3000,\n",
       "           0.4000,  0.5000,  0.4000,  0.5000,  0.6000]]])"
      ]
     },
     "execution_count": 3,
     "metadata": {},
     "output_type": "execute_result"
    }
   ],
   "source": [
    "batch_size = 1\n",
    "\n",
    "embed = embedding_matrix[0:4]\n",
    "embed_concat = embed.reshape(batch_size,1, -1)\n",
    "embed_concat"
   ]
  },
  {
   "cell_type": "code",
   "execution_count": 4,
   "metadata": {},
   "outputs": [],
   "source": [
    "in_channels = 1 # only text >> always 1\n",
    "out_channels = 30 # Hyperparameter\n",
    "filter_sizes = [3, 4, 5]\n",
    "embed_size = embedding_matrix.size(1)"
   ]
  },
  {
   "cell_type": "code",
   "execution_count": 5,
   "metadata": {},
   "outputs": [
    {
     "name": "stdout",
     "output_type": "stream",
     "text": [
      "torch.Size([1, 1, 4])\n",
      "tensor([[-2.7000, -3.0000, -3.3000, -3.6000]])\n"
     ]
    }
   ],
   "source": [
    "# -1로 weight initialization\n",
    "custom_kernel_weight = torch.Tensor([-1]*embed_size*filter_sizes[0]).reshape(1,1,-1)\n",
    "\n",
    "conv_out = F.conv1d(embed_concat, custom_kernel_weight)\n",
    "print(conv_out.size())\n",
    "print(conv_out[0])"
   ]
  },
  {
   "cell_type": "code",
   "execution_count": 10,
   "metadata": {},
   "outputs": [
    {
     "name": "stdout",
     "output_type": "stream",
     "text": [
      "torch.Size([1, 1, 4])\n",
      "tensor([[ 1.0200,  0.9800,  0.8600,  1.2000]])\n"
     ]
    }
   ],
   "source": [
    "\n",
    "custom_kernel_weight = torch.Tensor([-1, 0, 0.1, 0.2, 0.5, 0, 0, 1, 1]).reshape(1,1,-1)\n",
    "\n",
    "conv_out = F.conv1d(embed_concat, custom_kernel_weight)\n",
    "print(conv_out.size())\n",
    "print(conv_out[0])"
   ]
  },
  {
   "cell_type": "code",
   "execution_count": 14,
   "metadata": {},
   "outputs": [
    {
     "data": {
      "text/plain": [
       "tensor([[ 0.7699,  0.7531,  0.6963,  0.8337]])"
      ]
     },
     "execution_count": 14,
     "metadata": {},
     "output_type": "execute_result"
    }
   ],
   "source": [
    "torch.tanh(torch.Tensor([[1.02, 0.98, 0.86, 1.20]]))"
   ]
  }
 ],
 "metadata": {
  "kernelspec": {
   "display_name": "Python 3",
   "language": "python",
   "name": "python3"
  },
  "language_info": {
   "codemirror_mode": {
    "name": "ipython",
    "version": 3
   },
   "file_extension": ".py",
   "mimetype": "text/x-python",
   "name": "python",
   "nbconvert_exporter": "python",
   "pygments_lexer": "ipython3",
   "version": "3.6.5"
  },
  "latex_envs": {
   "LaTeX_envs_menu_present": true,
   "autoclose": false,
   "autocomplete": true,
   "bibliofile": "biblio.bib",
   "cite_by": "apalike",
   "current_citInitial": 1,
   "eqLabelWithNumbers": true,
   "eqNumInitial": 1,
   "hotkeys": {
    "equation": "Ctrl-E",
    "itemize": "Ctrl-I"
   },
   "labels_anchors": false,
   "latex_user_defs": false,
   "report_style_numbering": false,
   "user_envs_cfg": false
  },
  "toc": {
   "base_numbering": 1,
   "nav_menu": {},
   "number_sections": true,
   "sideBar": true,
   "skip_h1_title": false,
   "title_cell": "Table of Contents",
   "title_sidebar": "Contents",
   "toc_cell": false,
   "toc_position": {},
   "toc_section_display": true,
   "toc_window_display": false
  },
  "varInspector": {
   "cols": {
    "lenName": 16,
    "lenType": 16,
    "lenVar": 40
   },
   "kernels_config": {
    "python": {
     "delete_cmd_postfix": "",
     "delete_cmd_prefix": "del ",
     "library": "var_list.py",
     "varRefreshCmd": "print(var_dic_list())"
    },
    "r": {
     "delete_cmd_postfix": ") ",
     "delete_cmd_prefix": "rm(",
     "library": "var_list.r",
     "varRefreshCmd": "cat(var_dic_list()) "
    }
   },
   "types_to_exclude": [
    "module",
    "function",
    "builtin_function_or_method",
    "instance",
    "_Feature"
   ],
   "window_display": false
  }
 },
 "nbformat": 4,
 "nbformat_minor": 2
}
