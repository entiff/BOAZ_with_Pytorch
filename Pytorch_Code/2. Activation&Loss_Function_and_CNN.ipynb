{
 "cells": [
  {
   "cell_type": "markdown",
   "metadata": {},
   "source": [
    "## Linear Function"
   ]
  },
  {
   "cell_type": "code",
   "execution_count": null,
   "metadata": {
    "collapsed": true
   },
   "outputs": [],
   "source": [
    "import torch\n",
    "import torch.nn as nn\n",
    "import numpy as np\n",
    "\n",
    "# Linear Function\n",
    "# input dim = 5, output dim = 1\n",
    "linear = nn.Linear(5, 1)\n",
    "x = torch.FloatTensor([-2, -1, 0, 1, 2])\n",
    "print(linear(x)) \n",
    "print(linear.parameters())"
   ]
  },
  {
   "cell_type": "markdown",
   "metadata": {},
   "source": [
    "## Activation Function"
   ]
  },
  {
   "cell_type": "code",
   "execution_count": 1,
   "metadata": {},
   "outputs": [
    {
     "name": "stdout",
     "output_type": "stream",
     "text": [
      "tensor([ 2.2133, -0.1138,  1.5308, -0.7443,  0.3721])\n",
      "tensor([2.2133, 0.0000, 1.5308, 0.0000, 0.3721])\n",
      "tensor([0.9014, 0.4716, 0.8221, 0.3221, 0.5920])\n",
      "tensor([ 0.9764, -0.1133,  0.9106, -0.6318,  0.3558])\n",
      "tensor([0.5514, 0.0538, 0.2787, 0.0286, 0.0875])\n"
     ]
    }
   ],
   "source": [
    "x = torch.FloatTensor([-2, -1, 0, 1, 2])\n",
    "print(x)\n",
    "\n",
    "# ReLU\n",
    "relu = nn.ReLU()\n",
    "print(relu(x)) \n",
    "\n",
    "# Sigmoid\n",
    "sigmoid = nn.Sigmoid()\n",
    "print(sigmoid(x))\n",
    "\n",
    "# Tanh\n",
    "tanh = nn.Tanh()\n",
    "print(tanh(x))\n",
    "\n",
    "# Softmax\n",
    "softmax = nn.Softmax(dim = 0)\n",
    "print(softmax(x))"
   ]
  },
  {
   "cell_type": "markdown",
   "metadata": {},
   "source": [
    "## Loss Function"
   ]
  },
  {
   "cell_type": "code",
   "execution_count": 2,
   "metadata": {},
   "outputs": [
    {
     "name": "stdout",
     "output_type": "stream",
     "text": [
      "tensor(0.3333)\n"
     ]
    }
   ],
   "source": [
    "a = torch.FloatTensor([1, 4, 2])\n",
    "b = torch.FloatTensor([1, 3, 2])\n",
    "\n",
    "# MSE Loss\n",
    "mse = nn.MSELoss()\n",
    "print(mse(a, b))"
   ]
  },
  {
   "cell_type": "code",
   "execution_count": 5,
   "metadata": {},
   "outputs": [
    {
     "name": "stdout",
     "output_type": "stream",
     "text": [
      "tensor(2.0548)\n"
     ]
    }
   ],
   "source": [
    "a = torch.FloatTensor([[1, 4, 2], [0.5, 0.3, 0.2]])\n",
    "b = torch.LongTensor([0, 0])\n",
    "\n",
    "cross_entropy = nn.CrossEntropyLoss()\n",
    "print(cross_entropy(a,b))"
   ]
  },
  {
   "cell_type": "markdown",
   "metadata": {},
   "source": [
    "## Convolutional Neural Network"
   ]
  },
  {
   "cell_type": "code",
   "execution_count": 4,
   "metadata": {},
   "outputs": [
    {
     "name": "stdout",
     "output_type": "stream",
     "text": [
      "Downloading http://yann.lecun.com/exdb/mnist/train-images-idx3-ubyte.gz\n",
      "Downloading http://yann.lecun.com/exdb/mnist/train-labels-idx1-ubyte.gz\n",
      "Downloading http://yann.lecun.com/exdb/mnist/t10k-images-idx3-ubyte.gz\n",
      "Downloading http://yann.lecun.com/exdb/mnist/t10k-labels-idx1-ubyte.gz\n",
      "Processing...\n",
      "Done!\n"
     ]
    }
   ],
   "source": [
    "import torch\n",
    "import torch.nn as nn\n",
    "import torch.optim as optim\n",
    "\n",
    "from torch.autograd import Variable\n",
    "from torch.utils.data import DataLoader\n",
    "from torchvision import transforms\n",
    "from torchvision import datasets\n",
    "\n",
    "batch_size = 32\n",
    "learning_rate = 0.01\n",
    "num_epochs = 5\n",
    "\n",
    "# MNIST Dataset DataLoader\n",
    "train_dataset = datasets.MNIST(root='./data', train=True,\n",
    "                        transform=transforms.ToTensor(), download=True)\n",
    "test_dataset = datasets.MNIST(root='./data', train=False,\n",
    "                        transform=transforms.ToTensor())\n",
    "\n",
    "train_loader = DataLoader(train_dataset, batch_size=batch_size, shuffle=True)\n",
    "test_loader = DataLoader(test_dataset, batch_size=batch_size, shuffle=False)"
   ]
  },
  {
   "cell_type": "code",
   "execution_count": 21,
   "metadata": {
    "collapsed": true
   },
   "outputs": [],
   "source": [
    "class CNN(nn.Module):\n",
    "    def __init__(self, num_classes=10):\n",
    "        super(CNN, self).__init__()\n",
    "        self.layer1 = nn.Sequential(\n",
    "            nn.Conv2d(1, 16, kernel_size=5, stride=1, padding=2),\n",
    "            nn.BatchNorm2d(16),\n",
    "            nn.ReLU(),\n",
    "            nn.MaxPool2d(kernel_size=2, stride=2))\n",
    "        self.layer2 = nn.Sequential(\n",
    "            nn.Conv2d(16, 32, kernel_size=5, stride=1, padding=2),\n",
    "            nn.BatchNorm2d(32),\n",
    "            nn.ReLU(),\n",
    "            nn.MaxPool2d(kernel_size=2, stride=2))\n",
    "        self.fc = nn.Linear(7*7*32, num_classes)\n",
    "        \n",
    "    def forward(self, x):\n",
    "        out = self.layer1(x)\n",
    "        out = self.layer2(out)\n",
    "        out = out.view(out.size(0), -1)\n",
    "        out = self.fc(out)\n",
    "        \n",
    "        return out"
   ]
  },
  {
   "cell_type": "code",
   "execution_count": 22,
   "metadata": {
    "collapsed": true
   },
   "outputs": [],
   "source": [
    "# Model\n",
    "model = CNN()\n",
    "\n",
    "# Loss\n",
    "criterion = nn.CrossEntropyLoss()\n",
    "\n",
    "# Optimizer\n",
    "optimizer = optim.SGD(model.parameters(), lr=learning_rate)"
   ]
  },
  {
   "cell_type": "code",
   "execution_count": 23,
   "metadata": {
    "scrolled": true
   },
   "outputs": [
    {
     "name": "stdout",
     "output_type": "stream",
     "text": [
      "Epoch [1/5], Step [100/1875], Loss: 0.7248\n",
      "Epoch [1/5], Step [200/1875], Loss: 0.2679\n",
      "Epoch [1/5], Step [300/1875], Loss: 0.2180\n",
      "Epoch [1/5], Step [400/1875], Loss: 0.3786\n",
      "Epoch [1/5], Step [500/1875], Loss: 0.1143\n",
      "Epoch [1/5], Step [600/1875], Loss: 0.1453\n",
      "Epoch [1/5], Step [700/1875], Loss: 0.2521\n",
      "Epoch [1/5], Step [800/1875], Loss: 0.0984\n",
      "Epoch [1/5], Step [900/1875], Loss: 0.2446\n",
      "Epoch [1/5], Step [1000/1875], Loss: 0.0408\n",
      "Epoch [1/5], Step [1100/1875], Loss: 0.1056\n",
      "Epoch [1/5], Step [1200/1875], Loss: 0.0450\n",
      "Epoch [1/5], Step [1300/1875], Loss: 0.2596\n",
      "Epoch [1/5], Step [1400/1875], Loss: 0.1380\n",
      "Epoch [1/5], Step [1500/1875], Loss: 0.2578\n",
      "Epoch [1/5], Step [1600/1875], Loss: 0.0182\n",
      "Epoch [1/5], Step [1700/1875], Loss: 0.1190\n",
      "Epoch [1/5], Step [1800/1875], Loss: 0.3783\n",
      "Epoch [2/5], Step [100/1875], Loss: 0.0690\n",
      "Epoch [2/5], Step [200/1875], Loss: 0.1108\n",
      "Epoch [2/5], Step [300/1875], Loss: 0.1454\n",
      "Epoch [2/5], Step [400/1875], Loss: 0.1535\n",
      "Epoch [2/5], Step [500/1875], Loss: 0.0612\n",
      "Epoch [2/5], Step [600/1875], Loss: 0.0662\n",
      "Epoch [2/5], Step [700/1875], Loss: 0.0823\n",
      "Epoch [2/5], Step [800/1875], Loss: 0.0291\n",
      "Epoch [2/5], Step [900/1875], Loss: 0.0335\n",
      "Epoch [2/5], Step [1000/1875], Loss: 0.0077\n",
      "Epoch [2/5], Step [1100/1875], Loss: 0.0248\n",
      "Epoch [2/5], Step [1200/1875], Loss: 0.0302\n",
      "Epoch [2/5], Step [1300/1875], Loss: 0.1267\n",
      "Epoch [2/5], Step [1400/1875], Loss: 0.0109\n",
      "Epoch [2/5], Step [1500/1875], Loss: 0.0467\n",
      "Epoch [2/5], Step [1600/1875], Loss: 0.0893\n",
      "Epoch [2/5], Step [1700/1875], Loss: 0.0178\n",
      "Epoch [2/5], Step [1800/1875], Loss: 0.2066\n",
      "Epoch [3/5], Step [100/1875], Loss: 0.1026\n",
      "Epoch [3/5], Step [200/1875], Loss: 0.0134\n",
      "Epoch [3/5], Step [300/1875], Loss: 0.0585\n",
      "Epoch [3/5], Step [400/1875], Loss: 0.0575\n",
      "Epoch [3/5], Step [500/1875], Loss: 0.0243\n",
      "Epoch [3/5], Step [600/1875], Loss: 0.1211\n",
      "Epoch [3/5], Step [700/1875], Loss: 0.0301\n",
      "Epoch [3/5], Step [800/1875], Loss: 0.0714\n",
      "Epoch [3/5], Step [900/1875], Loss: 0.0090\n",
      "Epoch [3/5], Step [1000/1875], Loss: 0.0679\n",
      "Epoch [3/5], Step [1100/1875], Loss: 0.0495\n",
      "Epoch [3/5], Step [1200/1875], Loss: 0.0181\n",
      "Epoch [3/5], Step [1300/1875], Loss: 0.1720\n",
      "Epoch [3/5], Step [1400/1875], Loss: 0.0183\n",
      "Epoch [3/5], Step [1500/1875], Loss: 0.0861\n",
      "Epoch [3/5], Step [1600/1875], Loss: 0.0110\n",
      "Epoch [3/5], Step [1700/1875], Loss: 0.0697\n",
      "Epoch [3/5], Step [1800/1875], Loss: 0.0187\n",
      "Epoch [4/5], Step [100/1875], Loss: 0.1879\n",
      "Epoch [4/5], Step [200/1875], Loss: 0.0443\n",
      "Epoch [4/5], Step [300/1875], Loss: 0.0294\n",
      "Epoch [4/5], Step [400/1875], Loss: 0.0189\n",
      "Epoch [4/5], Step [500/1875], Loss: 0.1014\n",
      "Epoch [4/5], Step [600/1875], Loss: 0.0501\n",
      "Epoch [4/5], Step [700/1875], Loss: 0.0191\n",
      "Epoch [4/5], Step [800/1875], Loss: 0.0734\n",
      "Epoch [4/5], Step [900/1875], Loss: 0.0223\n",
      "Epoch [4/5], Step [1000/1875], Loss: 0.0344\n",
      "Epoch [4/5], Step [1100/1875], Loss: 0.0583\n",
      "Epoch [4/5], Step [1200/1875], Loss: 0.2139\n",
      "Epoch [4/5], Step [1300/1875], Loss: 0.0694\n",
      "Epoch [4/5], Step [1400/1875], Loss: 0.0025\n",
      "Epoch [4/5], Step [1500/1875], Loss: 0.1001\n",
      "Epoch [4/5], Step [1600/1875], Loss: 0.0291\n",
      "Epoch [4/5], Step [1700/1875], Loss: 0.0430\n",
      "Epoch [4/5], Step [1800/1875], Loss: 0.0092\n",
      "Epoch [5/5], Step [100/1875], Loss: 0.0891\n",
      "Epoch [5/5], Step [200/1875], Loss: 0.0424\n",
      "Epoch [5/5], Step [300/1875], Loss: 0.0115\n",
      "Epoch [5/5], Step [400/1875], Loss: 0.0054\n",
      "Epoch [5/5], Step [500/1875], Loss: 0.0078\n",
      "Epoch [5/5], Step [600/1875], Loss: 0.1124\n",
      "Epoch [5/5], Step [700/1875], Loss: 0.0121\n",
      "Epoch [5/5], Step [800/1875], Loss: 0.0066\n",
      "Epoch [5/5], Step [900/1875], Loss: 0.0094\n",
      "Epoch [5/5], Step [1000/1875], Loss: 0.0653\n",
      "Epoch [5/5], Step [1100/1875], Loss: 0.0070\n",
      "Epoch [5/5], Step [1200/1875], Loss: 0.0276\n",
      "Epoch [5/5], Step [1300/1875], Loss: 0.0122\n",
      "Epoch [5/5], Step [1400/1875], Loss: 0.1266\n",
      "Epoch [5/5], Step [1500/1875], Loss: 0.0232\n",
      "Epoch [5/5], Step [1600/1875], Loss: 0.0137\n",
      "Epoch [5/5], Step [1700/1875], Loss: 0.0676\n",
      "Epoch [5/5], Step [1800/1875], Loss: 0.0525\n"
     ]
    }
   ],
   "source": [
    "# Traing the model\n",
    "for epoch in range(num_epochs):\n",
    "    for i, (img, label) in enumerate(train_loader, 1):\n",
    "        img, label = Variable(img), Variable(label)\n",
    "        out = model(img)\n",
    "        loss = criterion(out, label)\n",
    "        \n",
    "        # Backward and optimize\n",
    "        optimizer.zero_grad()\n",
    "        loss.backward()\n",
    "        optimizer.step()\n",
    "        \n",
    "        if (i+1) % 100 == 0:\n",
    "            print('Epoch [{}/{}], Step [{}/{}], Loss: {:.4f}'.format(epoch+1, num_epochs, i+1, len(train_loader), loss.item()))"
   ]
  },
  {
   "cell_type": "code",
   "execution_count": 24,
   "metadata": {},
   "outputs": [
    {
     "name": "stdout",
     "output_type": "stream",
     "text": [
      "Test Accuracy of the model on the 10000 test images: 98.73 %\n"
     ]
    }
   ],
   "source": [
    "# Test the model\n",
    "model.eval()\n",
    "\n",
    "correct = 0\n",
    "total = 0\n",
    "for img, label in test_loader:\n",
    "    out = model(img)\n",
    "    _, predicted = torch.max(out.data, 1)\n",
    "    total += label.size(0)\n",
    "    correct += (predicted == label).sum().item()\n",
    "    \n",
    "print('Test Accuracy of the model on the 10000 test images: {} %'.format(100 * correct / total))\n",
    "\n",
    "# Save the model checkpoint\n",
    "torch.save(model.state_dict(), 'model_nn.ckpt')"
   ]
  },
  {
   "cell_type": "markdown",
   "metadata": {},
   "source": [
    "### 과제. Neural Network에 활성함수 & BatchNorm 추가"
   ]
  },
  {
   "cell_type": "code",
   "execution_count": null,
   "metadata": {
    "collapsed": true
   },
   "outputs": [],
   "source": [
    "# Neural Network는 저번 코드 참고\n"
   ]
  },
  {
   "cell_type": "markdown",
   "metadata": {},
   "source": [
    "### 과제. CIFAR-10 Dataset에 CNN 구현\n",
    "Hint. CIFAR-10의 크기는 32x32x3 & Class는 10개"
   ]
  },
  {
   "cell_type": "code",
   "execution_count": 25,
   "metadata": {},
   "outputs": [
    {
     "name": "stdout",
     "output_type": "stream",
     "text": [
      "Downloading http://www.cs.toronto.edu/~kriz/cifar-10-python.tar.gz to ./data\\cifar-10-python.tar.gz\n",
      "Files already downloaded and verified\n"
     ]
    }
   ],
   "source": [
    "import torch\n",
    "import torch.nn as nn\n",
    "import torch.optim as optim\n",
    "\n",
    "from torch.autograd import Variable\n",
    "from torch.utils.data import DataLoader\n",
    "from torchvision import transforms\n",
    "from torchvision import datasets\n",
    "\n",
    "batch_size = 4\n",
    "learning_rate = 0.01\n",
    "num_epochs = 5\n",
    "\n",
    "# CIFAR-10 Dataset DataLoader\n",
    "trainset = datasets.CIFAR10(root='./data', train=True, download=True,\n",
    "                                        transform=transforms.ToTensor())\n",
    "\n",
    "testset = datasets.CIFAR10(root='./data', train=False, download=True, \n",
    "                                       transform=transforms.ToTensor())\n",
    "\n",
    "\n",
    "train_loader = DataLoader(train_dataset, batch_size=batch_size, shuffle=True)\n",
    "test_loader = DataLoader(test_dataset, batch_size=batch_size, shuffle=False)"
   ]
  },
  {
   "cell_type": "code",
   "execution_count": null,
   "metadata": {
    "collapsed": true
   },
   "outputs": [],
   "source": []
  }
 ],
 "metadata": {
  "kernelspec": {
   "display_name": "Python [default]",
   "language": "python",
   "name": "python3"
  },
  "language_info": {
   "codemirror_mode": {
    "name": "ipython",
    "version": 3
   },
   "file_extension": ".py",
   "mimetype": "text/x-python",
   "name": "python",
   "nbconvert_exporter": "python",
   "pygments_lexer": "ipython3",
   "version": "3.6.3"
  }
 },
 "nbformat": 4,
 "nbformat_minor": 2
}
