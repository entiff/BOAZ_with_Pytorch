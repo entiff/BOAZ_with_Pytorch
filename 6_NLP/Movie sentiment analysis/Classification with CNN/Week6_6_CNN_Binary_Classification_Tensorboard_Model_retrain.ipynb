{
 "cells": [
  {
   "cell_type": "markdown",
   "metadata": {},
   "source": [
    "## Sentiment Analysis for Korean Movie Review Data"
   ]
  },
  {
   "cell_type": "markdown",
   "metadata": {},
   "source": [
    "## 1. Load Pickle File"
   ]
  },
  {
   "cell_type": "code",
   "execution_count": 1,
   "metadata": {
    "collapsed": true
   },
   "outputs": [],
   "source": [
    "import pickle\n",
    "\n",
    "with open(\"movie_data.pickle\", \"rb\") as f:\n",
    "    movie_data = pickle.load(f)"
   ]
  },
  {
   "cell_type": "code",
   "execution_count": 2,
   "metadata": {},
   "outputs": [
    {
     "data": {
      "text/plain": [
       "dict_keys(['reviews', 'scores', 'reviews_ix', 'word2ix', 'ix2word', 'max_seq_length'])"
      ]
     },
     "execution_count": 2,
     "metadata": {},
     "output_type": "execute_result"
    }
   ],
   "source": [
    "movie_data.keys()"
   ]
  },
  {
   "cell_type": "code",
   "execution_count": 3,
   "metadata": {
    "collapsed": true
   },
   "outputs": [],
   "source": [
    "reviews = movie_data[\"reviews\"]\n",
    "scores = movie_data[\"scores\"]\n",
    "reviews_ix = movie_data[\"reviews_ix\"]\n",
    "word2ix = movie_data[\"word2ix\"]\n",
    "ix2word = movie_data[\"ix2word\"]\n",
    "max_seq_length = movie_data[\"max_seq_length\"]"
   ]
  },
  {
   "cell_type": "code",
   "execution_count": 4,
   "metadata": {
    "collapsed": true
   },
   "outputs": [],
   "source": [
    "for i, score in enumerate(scores):\n",
    "    if score <= 6:\n",
    "        scores[i] = 0\n",
    "    else:\n",
    "        scores[i] = 1"
   ]
  },
  {
   "cell_type": "code",
   "execution_count": 5,
   "metadata": {},
   "outputs": [
    {
     "data": {
      "text/plain": [
       "Counter({1: 1138, 0: 689})"
      ]
     },
     "execution_count": 5,
     "metadata": {},
     "output_type": "execute_result"
    }
   ],
   "source": [
    "from collections import Counter\n",
    "Counter(scores)"
   ]
  },
  {
   "cell_type": "markdown",
   "metadata": {},
   "source": [
    "## 2. load Word2Vec model"
   ]
  },
  {
   "cell_type": "code",
   "execution_count": 6,
   "metadata": {
    "collapsed": true
   },
   "outputs": [],
   "source": [
    "from gensim.models import Word2Vec\n",
    "model = Word2Vec.load('word2vec.model')"
   ]
  },
  {
   "cell_type": "markdown",
   "metadata": {},
   "source": [
    "## 3. Prepare Trian / Test Datasets"
   ]
  },
  {
   "cell_type": "code",
   "execution_count": 7,
   "metadata": {
    "collapsed": true
   },
   "outputs": [],
   "source": [
    "from sklearn.model_selection import train_test_split\n",
    "\n",
    "X_train, X_test, y_train, y_test = train_test_split(reviews_ix, \n",
    "                                                    scores, \n",
    "                                                    test_size=0.3, \n",
    "                                                    random_state=777)"
   ]
  },
  {
   "cell_type": "code",
   "execution_count": 8,
   "metadata": {
    "collapsed": true
   },
   "outputs": [],
   "source": [
    "X_train, X_dev, y_train, y_dev = train_test_split(X_train, \n",
    "                                                  y_train, \n",
    "                                                  test_size=0.1, \n",
    "                                                  random_state=777)"
   ]
  },
  {
   "cell_type": "code",
   "execution_count": 9,
   "metadata": {},
   "outputs": [
    {
     "data": {
      "text/plain": [
       "1827"
      ]
     },
     "execution_count": 9,
     "metadata": {},
     "output_type": "execute_result"
    }
   ],
   "source": [
    "len(reviews_ix)"
   ]
  },
  {
   "cell_type": "code",
   "execution_count": 10,
   "metadata": {},
   "outputs": [
    {
     "data": {
      "text/plain": [
       "1150"
      ]
     },
     "execution_count": 10,
     "metadata": {},
     "output_type": "execute_result"
    }
   ],
   "source": [
    "len(X_train)"
   ]
  },
  {
   "cell_type": "code",
   "execution_count": 11,
   "metadata": {},
   "outputs": [
    {
     "data": {
      "text/plain": [
       "128"
      ]
     },
     "execution_count": 11,
     "metadata": {},
     "output_type": "execute_result"
    }
   ],
   "source": [
    "len(X_dev)"
   ]
  },
  {
   "cell_type": "code",
   "execution_count": 12,
   "metadata": {
    "scrolled": false
   },
   "outputs": [
    {
     "data": {
      "text/plain": [
       "549"
      ]
     },
     "execution_count": 12,
     "metadata": {},
     "output_type": "execute_result"
    }
   ],
   "source": [
    "len(X_test)"
   ]
  },
  {
   "cell_type": "code",
   "execution_count": 13,
   "metadata": {
    "collapsed": true
   },
   "outputs": [],
   "source": [
    "from torch.utils.data import Dataset\n",
    "from torch.utils.data import DataLoader\n",
    "import numpy as np\n",
    "\n",
    "\n",
    "class Dataset(Dataset):\n",
    "    def __init__(self, X_data, y_data):\n",
    "        self.X_data = X_data\n",
    "        self.y_data = y_data\n",
    "        \n",
    "    def __getitem__(self, index):\n",
    "        return self.X_data[index], self.y_data[index]\n",
    "        \n",
    "    def __len__ (self):\n",
    "        return len(self.X_data)\n",
    "\n",
    "train_data = Dataset(np.array(X_train), y_train)\n",
    "dev_data = Dataset(np.array(X_dev), y_dev)"
   ]
  },
  {
   "cell_type": "markdown",
   "metadata": {},
   "source": [
    "## 4. Prepare Embedding Matrix"
   ]
  },
  {
   "cell_type": "code",
   "execution_count": 14,
   "metadata": {},
   "outputs": [
    {
     "name": "stdout",
     "output_type": "stream",
     "text": [
      "5982\n",
      "5982\n"
     ]
    },
    {
     "name": "stderr",
     "output_type": "stream",
     "text": [
      "/home/gyuwonable/anaconda3/envs/pt-latest/lib/python3.6/site-packages/ipykernel/__main__.py:9: DeprecationWarning: Call to deprecated `__getitem__` (Method will be removed in 4.0.0, use self.wv.__getitem__() instead).\n"
     ]
    }
   ],
   "source": [
    "import torch\n",
    "\n",
    "device = torch.device('cuda:0' if torch.cuda.is_available() else 'cpu')\n",
    "\n",
    "embedding_matrix = []\n",
    "\n",
    "for word in word2ix.keys():\n",
    "    try:\n",
    "        embedding_matrix.append(model[word])\n",
    "    except:\n",
    "        embedding_matrix.append(np.zeros(100))\n",
    "\n",
    "print(len(word2ix))\n",
    "print(len(embedding_matrix))\n",
    "\n",
    "embedding_matrix = torch.Tensor(embedding_matrix)"
   ]
  },
  {
   "cell_type": "markdown",
   "metadata": {},
   "source": [
    "## 5. Model Retrain"
   ]
  },
  {
   "cell_type": "code",
   "execution_count": 15,
   "metadata": {
    "collapsed": true
   },
   "outputs": [],
   "source": [
    "import torch\n",
    "import torch.nn as nn\n",
    "import torch.nn.functional as F\n",
    "from torch.autograd import Variable\n",
    "import torch.optim as optim\n",
    "torch.manual_seed(777);\n",
    "from classifier import CNN_Clf"
   ]
  },
  {
   "cell_type": "code",
   "execution_count": 16,
   "metadata": {},
   "outputs": [
    {
     "data": {
      "text/plain": [
       "True"
      ]
     },
     "execution_count": 16,
     "metadata": {},
     "output_type": "execute_result"
    }
   ],
   "source": [
    "torch.cuda.is_available()"
   ]
  },
  {
   "cell_type": "code",
   "execution_count": 17,
   "metadata": {
    "collapsed": true
   },
   "outputs": [],
   "source": [
    " def pad_sequence(batch):\n",
    "        X_batch, y_batch = zip(*batch)\n",
    "        max_seq_length = max([len(x) for x in X_batch])\n",
    "        if max_seq_length < max(filter_sizes):\n",
    "            max_seq_length = max(filter_sizes)\n",
    "\n",
    "        res = []\n",
    "        for seq in X_batch:\n",
    "            if len(seq) < max_seq_length:\n",
    "                pad_seq = torch.LongTensor(seq + [0]*(max_seq_length-len(seq)))\n",
    "                res.append(pad_seq)\n",
    "            else:\n",
    "                res.append(torch.LongTensor(seq))\n",
    "        return torch.cat(res).reshape(batch_size, max_seq_length), torch.LongTensor(y_batch)"
   ]
  },
  {
   "cell_type": "code",
   "execution_count": 18,
   "metadata": {
    "collapsed": true
   },
   "outputs": [],
   "source": [
    "import copy\n",
    "\n",
    "def model_save(epoch, model, optimizer, train_loss, train_acc, val_loss, val_acc, PATH):\n",
    "    torch.save({\n",
    "            'epoch': epoch,\n",
    "            'model_state_dict': copy.deepcopy(model.state_dict()), # deep copy는 normalize를 이겨내고 저장한다(?)\n",
    "            'optimizer_state_dict': optimizer.state_dict(),\n",
    "            'train_loss': train_loss,\n",
    "            'train_acc': train_acc,\n",
    "            'val_loss': val_loss,\n",
    "            'val_acc': val_acc\n",
    "    }, PATH)"
   ]
  },
  {
   "cell_type": "code",
   "execution_count": 19,
   "metadata": {
    "collapsed": true
   },
   "outputs": [],
   "source": [
    "checkpoint = torch.load(\"./log_files/model_save/EPOCH_999\")\n",
    "\n",
    "model = CNN_Clf(vocab_size=len(word2ix),\n",
    "                embed_size=100,\n",
    "                output_size = 2,\n",
    "                embedding_matrix = embedding_matrix,\n",
    "                out_chs = 100,\n",
    "                DR_rate = 0.5,\n",
    "                filter_sizes = [3, 4, 5]).to(device)\n",
    "\n",
    "model.load_state_dict(checkpoint[\"model_state_dict\"])"
   ]
  },
  {
   "cell_type": "code",
   "execution_count": 20,
   "metadata": {
    "scrolled": true
   },
   "outputs": [
    {
     "name": "stderr",
     "output_type": "stream",
     "text": [
      "/home/gyuwonable/anaconda3/envs/pt-latest/lib/python3.6/site-packages/torch/onnx/symbolic.py:69: UserWarning: ONNX export failed on max_pool1d_with_indices because ceil_mode not supported\n",
      "  warnings.warn(\"ONNX export failed on \" + op + \" because \" + msg + \" not supported\")\n"
     ]
    },
    {
     "name": "stdout",
     "output_type": "stream",
     "text": [
      "epoch: 1000\n",
      "train_acc: 0.558 (642/1150)\n",
      "val_acc: 0.758 (97/128)\n",
      "avg_train_loss: 0.486\n",
      "avg_val_loss: 0.604\n",
      "==========================================================\n",
      "epoch: 1100\n",
      "train_acc: 0.562 (646/1150)\n",
      "val_acc: 0.758 (97/128)\n",
      "avg_train_loss: 0.463\n",
      "avg_val_loss: 0.599\n",
      "==========================================================\n",
      "epoch: 1200\n",
      "train_acc: 0.573 (659/1150)\n",
      "val_acc: 0.750 (96/128)\n",
      "avg_train_loss: 0.454\n",
      "avg_val_loss: 0.597\n",
      "==========================================================\n",
      "epoch: 1300\n",
      "train_acc: 0.570 (655/1150)\n",
      "val_acc: 0.750 (96/128)\n",
      "avg_train_loss: 0.441\n",
      "avg_val_loss: 0.593\n",
      "==========================================================\n",
      "epoch: 1400\n",
      "train_acc: 0.577 (664/1150)\n",
      "val_acc: 0.734 (94/128)\n",
      "avg_train_loss: 0.420\n",
      "avg_val_loss: 0.589\n",
      "==========================================================\n",
      "epoch: 1500\n",
      "train_acc: 0.577 (663/1150)\n",
      "val_acc: 0.727 (93/128)\n",
      "avg_train_loss: 0.419\n",
      "avg_val_loss: 0.587\n",
      "==========================================================\n",
      "epoch: 1600\n",
      "train_acc: 0.581 (668/1150)\n",
      "val_acc: 0.734 (94/128)\n",
      "avg_train_loss: 0.407\n",
      "avg_val_loss: 0.585\n",
      "==========================================================\n",
      "epoch: 1700\n",
      "train_acc: 0.583 (670/1150)\n",
      "val_acc: 0.734 (94/128)\n",
      "avg_train_loss: 0.399\n",
      "avg_val_loss: 0.583\n",
      "==========================================================\n",
      "epoch: 1800\n",
      "train_acc: 0.593 (682/1150)\n",
      "val_acc: 0.742 (95/128)\n",
      "avg_train_loss: 0.392\n",
      "avg_val_loss: 0.581\n",
      "==========================================================\n",
      "epoch: 1900\n",
      "train_acc: 0.594 (683/1150)\n",
      "val_acc: 0.742 (95/128)\n",
      "avg_train_loss: 0.383\n",
      "avg_val_loss: 0.579\n",
      "==========================================================\n",
      "epoch: 1999\n",
      "train_acc: 0.592 (681/1150)\n",
      "val_acc: 0.734 (94/128)\n",
      "avg_train_loss: 0.384\n",
      "avg_val_loss: 0.577\n",
      "==========================================================\n",
      "CPU times: user 32min 14s, sys: 13min 9s, total: 45min 23s\n",
      "Wall time: 45min 24s\n"
     ]
    }
   ],
   "source": [
    "%%time\n",
    "from tensorboardX import SummaryWriter\n",
    "\n",
    "EPOCHS = 1000\n",
    "LR = 0.01 # Adadelta default learning_rate is 1.0\n",
    "batch_size = 50\n",
    "filter_sizes = [3, 4, 5]\n",
    "DR_rate = 0.5\n",
    "out_chs = 100\n",
    "\n",
    "writer = SummaryWriter('./log_files/model_retrain/')\n",
    "\n",
    "# Add_Graph to Tensorboard\n",
    "dummy_input = Variable(torch.zeros(batch_size, max_seq_length).long()).to(device)\n",
    "writer.add_graph(model, dummy_input)\n",
    "\n",
    "# Add_Embedding to Tensorboard\n",
    "word_labels = [ix2word[i] for i in range(len(ix2word))]\n",
    "writer.add_embedding(model.embed.weight.data, metadata=word_labels)    \n",
    "\n",
    "# weighted CrossEntropyLoss\n",
    "# Approximately 1/2 negative_data per 1 positive data\n",
    "# criterion = nn.CrossEntropyLoss(weight=torch.Tensor([2.0, 1.0]).to(device))\n",
    "criterion = nn.CrossEntropyLoss(weight=torch.Tensor([1.3, 1.0]).to(device))\n",
    "# criterion = nn.CrossEntropyLoss()\n",
    "\n",
    "optimizer = optim.Adadelta(model.parameters(),lr=LR, weight_decay=1e-5) # use L2-Norm\n",
    "optimizer.load_state_dict(checkpoint['optimizer_state_dict'])\n",
    "# optimizer = optim.SGD(model.parameters(),lr=LR, momentum=0.9, weight_decay=1e-5) # use L2-Norm\n",
    "\n",
    "train_loader = DataLoader(dataset=train_data, batch_size=batch_size, shuffle=True, collate_fn=pad_sequence)\n",
    "dev_loader = DataLoader(dataset=dev_data, batch_size=1, shuffle=False)\n",
    "\n",
    "for epoch in range(EPOCHS):\n",
    "    train_correct = 0\n",
    "    train_count = 0\n",
    "    train_loss = 0\n",
    "    val_correct = 0\n",
    "    val_count = 0\n",
    "    val_loss = 0\n",
    "    \n",
    "    \n",
    "    # Training\n",
    "    model = model.train()\n",
    "    \n",
    "    for X_batch, y_batch in train_loader:\n",
    "        model.zero_grad()\n",
    "        inputs = Variable(X_batch).to(device)\n",
    "        targets = Variable(y_batch).to(device)\n",
    "        \n",
    "        preds = model(inputs)\n",
    "     \n",
    "        loss = criterion(preds, targets)\n",
    "        train_loss += loss.item()\n",
    "        \n",
    "        compare = torch.max(preds, 1)[1]*targets\n",
    "        train_correct += torch.sum(compare).item()\n",
    "        train_count += X_batch.size(0)\n",
    "\n",
    "        \n",
    "        loss.backward()\n",
    "        optimizer.step()\n",
    "    \n",
    "    train_acc = train_correct/train_count\n",
    "    avg_train_loss = train_loss/(train_count/batch_size)\n",
    "    \n",
    "    # Validation\n",
    "\n",
    "    model = model.eval()\n",
    "    with torch.no_grad():          \n",
    "        for X_batch, y_batch in dev_loader:\n",
    "            val_count += 1         \n",
    "            if len(X_batch) < max(filter_sizes):\n",
    "                X_batch = torch.LongTensor(X_batch + [word2ix.get(\"<PAD>\")]*(max(filter_sizes)-len(X_batch))).to(device)\n",
    "            else:\n",
    "                X_batch = torch.LongTensor(X_batch).to(device)\n",
    "            input = Variable(X_batch).to(device)\n",
    "            target = Variable(torch.LongTensor(y_batch)).to(device)\n",
    "            pred = model.predict(input, test_batch_size=1)\n",
    "\n",
    "            loss = criterion(pred, target)\n",
    "            val_loss += loss.item()\n",
    "\n",
    "            _, pred = torch.max(pred, 1)\n",
    "            true = y_batch.item()\n",
    "            if true == pred.item():\n",
    "                val_correct +=1\n",
    "                          \n",
    "        val_acc = val_correct/val_count\n",
    "        avg_val_loss = val_loss/val_count\n",
    "\n",
    "    writer.add_scalars('Compare/train-val acc', {'Train Acc': train_acc,\n",
    "                                                    'Val Acc': val_acc}, epoch+1000)\n",
    "    \n",
    "    writer.add_scalars('Compare/train-val losses', {'Train Loss': avg_train_loss,\n",
    "                                                    'Val Loss': avg_val_loss}, epoch+1000)\n",
    "    \n",
    "    model_save(epoch+1000, model, optimizer, \n",
    "               train_loss, train_acc, \n",
    "               val_loss, val_acc, PATH=\"./log_files/model_retrain/EPOCH_\"+str(epoch+1000))\n",
    "    \n",
    "    if epoch % 100 == 0 or epoch == (EPOCHS-1):\n",
    "        print('epoch: {:d}'.format(epoch+1000))\n",
    "        print('train_acc: {:.3f} ({:d}/{:d})'.format(train_acc, train_correct, train_count))\n",
    "        print('val_acc: {:.3f} ({:d}/{:d})'.format(val_acc, val_correct, val_count))\n",
    "        print('avg_train_loss: {:.3f}'.format(avg_train_loss))        \n",
    "        print('avg_val_loss: {:.3f}'.format(avg_val_loss))\n",
    "        print(\"==========================================================\")\n",
    "\n",
    "writer.close()"
   ]
  },
  {
   "cell_type": "code",
   "execution_count": 21,
   "metadata": {
    "scrolled": false
   },
   "outputs": [
    {
     "name": "stdout",
     "output_type": "stream",
     "text": [
      "Input : ['후반/Noun', '쫄렸다/Noun']\n",
      "Prediction : 0\n",
      "Truth : 1\n",
      "\n",
      "\n",
      "Input : ['감동/Noun', '영화/Noun', '보고/Noun', '운/Noun', '거의/Noun', '애니메이션/Noun', '보면서/Verb', '울줄/Verb', '몰랐네요/Verb', 'ㅜ/KoreanParticle', '감동/Noun', 'ㅜㅜ/KoreanParticle']\n",
      "Prediction : 1\n",
      "Truth : 1\n",
      "\n",
      "\n",
      "Input : ['스토리/Noun', '별로/Noun', '노래/Noun']\n",
      "Prediction : 1\n",
      "Truth : 1\n",
      "\n",
      "\n",
      "Input : ['히어로/Noun', '물/Noun', '찍어도/Verb', '될/Verb', '정도/Noun', '그래픽/Noun', '본/Verb', '한국영/Noun', '화의/Noun', '희망/Noun', '이야기/Noun', '거기/Noun']\n",
      "Prediction : 0\n",
      "Truth : 0\n",
      "\n",
      "\n",
      "Input : ['보통/Noun', '서로/Noun', '아는/Verb', '상황/Noun', '주먹/Noun', '메/Noun', '쳐서/Verb', '다른/Noun', '격방/Noun', '시도/Noun', '하는게/Verb', '정상/Noun', '로메/Noun', '쳐/Verb', '대는게/Verb', '인상/Noun', '또/Noun', '와칸/Noun', '다인/Noun', '가에서/Verb', '개때/Noun', '닥치는데/Verb', '굳이/Noun', '칼/Noun', '빼/Noun', '일일이/Noun', '상대/Noun', '하는것도/Verb', '졸/Noun', '인상/Noun', '과거/Noun', '마징/Noun', '가가/Noun', '싸우다가/Verb', '죽기/Verb', '직전/Noun', '가슴/Noun', '원자력/Noun', '빔/Noun', '쏴서/Verb', '이기는거/Verb', '배운듯/Verb']\n",
      "Prediction : 1\n",
      "Truth : 0\n",
      "\n",
      "\n",
      "Input : ['평론가/Noun', '의미/Noun', '평론/Noun', '하지만/Verb', '년/Noun', '동안/Noun', '봐/Verb', '온/Noun', '영화/Noun', '가장/Noun', '눈/Noun', '귀가/Noun', '마음/Noun', '또/Noun', '보고싶다/Verb']\n",
      "Prediction : 1\n",
      "Truth : 1\n",
      "\n",
      "\n",
      "test_acc: 0.685 (376/549)\n"
     ]
    }
   ],
   "source": [
    "test_correct = 0\n",
    "test_count = len(X_test)\n",
    "model = model.eval()\n",
    "for i, seq in enumerate(X_test):\n",
    "    if len(seq) < max(filter_sizes):\n",
    "        seq = seq + [word2ix.get(\"<PAD>\")]*(max(filter_sizes)-len(seq))\n",
    "    input = Variable(torch.LongTensor(seq).view(1,-1)).to(device)\n",
    "    pred = model.predict(input, test_batch_size=1)\n",
    "    _, pred = torch.max(pred, 1)\n",
    "    \n",
    "    true = y_test[i]\n",
    "    if true == pred.item():\n",
    "        test_correct +=1\n",
    "    \n",
    "    if i%100 == 0:\n",
    "        input_seq = [ix2word.get(ix) for ix in seq if ix != 0]\n",
    "        print(\"Input :\", input_seq)\n",
    "        print(\"Prediction :\", pred.item())\n",
    "        print(\"Truth :\",y_test[i])\n",
    "        print(\"\\n\")\n",
    "\n",
    "test_acc = test_correct / test_count\n",
    "\n",
    "print('test_acc: {:.3f} ({:d}/{:d})'.format(test_acc, test_correct, test_count))"
   ]
  }
 ],
 "metadata": {
  "anaconda-cloud": {},
  "kernelspec": {
   "display_name": "Python 3",
   "language": "python",
   "name": "python3"
  },
  "language_info": {
   "codemirror_mode": {
    "name": "ipython",
    "version": 3
   },
   "file_extension": ".py",
   "mimetype": "text/x-python",
   "name": "python",
   "nbconvert_exporter": "python",
   "pygments_lexer": "ipython3",
   "version": "3.6.5"
  },
  "latex_envs": {
   "LaTeX_envs_menu_present": true,
   "autoclose": false,
   "autocomplete": true,
   "bibliofile": "biblio.bib",
   "cite_by": "apalike",
   "current_citInitial": 1,
   "eqLabelWithNumbers": true,
   "eqNumInitial": 1,
   "hotkeys": {
    "equation": "Ctrl-E",
    "itemize": "Ctrl-I"
   },
   "labels_anchors": false,
   "latex_user_defs": false,
   "report_style_numbering": false,
   "user_envs_cfg": false
  },
  "toc": {
   "base_numbering": 1,
   "nav_menu": {},
   "number_sections": true,
   "sideBar": true,
   "skip_h1_title": false,
   "title_cell": "Table of Contents",
   "title_sidebar": "Contents",
   "toc_cell": false,
   "toc_position": {},
   "toc_section_display": true,
   "toc_window_display": false
  },
  "varInspector": {
   "cols": {
    "lenName": 16,
    "lenType": 16,
    "lenVar": 40
   },
   "kernels_config": {
    "python": {
     "delete_cmd_postfix": "",
     "delete_cmd_prefix": "del ",
     "library": "var_list.py",
     "varRefreshCmd": "print(var_dic_list())"
    },
    "r": {
     "delete_cmd_postfix": ") ",
     "delete_cmd_prefix": "rm(",
     "library": "var_list.r",
     "varRefreshCmd": "cat(var_dic_list()) "
    }
   },
   "types_to_exclude": [
    "module",
    "function",
    "builtin_function_or_method",
    "instance",
    "_Feature"
   ],
   "window_display": false
  }
 },
 "nbformat": 4,
 "nbformat_minor": 2
}
