{
 "cells": [
  {
   "cell_type": "markdown",
   "metadata": {},
   "source": [
    "## Sentiment Analysis for Korean Movie Review Data"
   ]
  },
  {
   "cell_type": "markdown",
   "metadata": {},
   "source": [
    "## 1. Load Pickle File"
   ]
  },
  {
   "cell_type": "code",
   "execution_count": 1,
   "metadata": {
    "collapsed": true
   },
   "outputs": [],
   "source": [
    "import pickle\n",
    "\n",
    "with open(\"movie_data.pickle\", \"rb\") as f:\n",
    "    movie_data = pickle.load(f)"
   ]
  },
  {
   "cell_type": "code",
   "execution_count": 2,
   "metadata": {},
   "outputs": [
    {
     "data": {
      "text/plain": [
       "dict_keys(['reviews', 'scores', 'reviews_ix', 'word2ix', 'ix2word', 'max_seq_length'])"
      ]
     },
     "execution_count": 2,
     "metadata": {},
     "output_type": "execute_result"
    }
   ],
   "source": [
    "movie_data.keys()"
   ]
  },
  {
   "cell_type": "code",
   "execution_count": 3,
   "metadata": {
    "collapsed": true
   },
   "outputs": [],
   "source": [
    "reviews = movie_data[\"reviews\"]\n",
    "scores = movie_data[\"scores\"]\n",
    "reviews_ix = movie_data[\"reviews_ix\"]\n",
    "word2ix = movie_data[\"word2ix\"]\n",
    "ix2word = movie_data[\"ix2word\"]\n",
    "max_seq_length = movie_data[\"max_seq_length\"]"
   ]
  },
  {
   "cell_type": "code",
   "execution_count": 4,
   "metadata": {
    "collapsed": true
   },
   "outputs": [],
   "source": [
    "for i, score in enumerate(scores):\n",
    "    if score <= 6:\n",
    "        scores[i] = 0\n",
    "    else:\n",
    "        scores[i] = 1"
   ]
  },
  {
   "cell_type": "code",
   "execution_count": 5,
   "metadata": {},
   "outputs": [
    {
     "data": {
      "text/plain": [
       "Counter({1: 1138, 0: 689})"
      ]
     },
     "execution_count": 5,
     "metadata": {},
     "output_type": "execute_result"
    }
   ],
   "source": [
    "from collections import Counter\n",
    "Counter(scores)"
   ]
  },
  {
   "cell_type": "markdown",
   "metadata": {},
   "source": [
    "## 2. load Word2Vec model"
   ]
  },
  {
   "cell_type": "code",
   "execution_count": 6,
   "metadata": {
    "collapsed": true
   },
   "outputs": [],
   "source": [
    "from gensim.models import Word2Vec\n",
    "model = Word2Vec.load('word2vec.model')"
   ]
  },
  {
   "cell_type": "markdown",
   "metadata": {},
   "source": [
    "## 3. Prepare Trian / Test Datasets"
   ]
  },
  {
   "cell_type": "code",
   "execution_count": 7,
   "metadata": {
    "collapsed": true
   },
   "outputs": [],
   "source": [
    "from sklearn.model_selection import train_test_split\n",
    "\n",
    "X_train, X_test, y_train, y_test = train_test_split(reviews_ix, \n",
    "                                                    scores, \n",
    "                                                    test_size=0.3, \n",
    "                                                    random_state=777)"
   ]
  },
  {
   "cell_type": "code",
   "execution_count": 8,
   "metadata": {
    "collapsed": true
   },
   "outputs": [],
   "source": [
    "X_train, X_dev, y_train, y_dev = train_test_split(X_train, \n",
    "                                                  y_train, \n",
    "                                                  test_size=0.1, \n",
    "                                                  random_state=777)"
   ]
  },
  {
   "cell_type": "code",
   "execution_count": 9,
   "metadata": {},
   "outputs": [
    {
     "data": {
      "text/plain": [
       "1827"
      ]
     },
     "execution_count": 9,
     "metadata": {},
     "output_type": "execute_result"
    }
   ],
   "source": [
    "len(reviews_ix)"
   ]
  },
  {
   "cell_type": "code",
   "execution_count": 10,
   "metadata": {},
   "outputs": [
    {
     "data": {
      "text/plain": [
       "1150"
      ]
     },
     "execution_count": 10,
     "metadata": {},
     "output_type": "execute_result"
    }
   ],
   "source": [
    "len(X_train)"
   ]
  },
  {
   "cell_type": "code",
   "execution_count": 11,
   "metadata": {},
   "outputs": [
    {
     "data": {
      "text/plain": [
       "128"
      ]
     },
     "execution_count": 11,
     "metadata": {},
     "output_type": "execute_result"
    }
   ],
   "source": [
    "len(X_dev)"
   ]
  },
  {
   "cell_type": "code",
   "execution_count": 12,
   "metadata": {
    "scrolled": false
   },
   "outputs": [
    {
     "data": {
      "text/plain": [
       "549"
      ]
     },
     "execution_count": 12,
     "metadata": {},
     "output_type": "execute_result"
    }
   ],
   "source": [
    "len(X_test)"
   ]
  },
  {
   "cell_type": "code",
   "execution_count": 13,
   "metadata": {
    "collapsed": true
   },
   "outputs": [],
   "source": [
    "from torch.utils.data import Dataset\n",
    "from torch.utils.data import DataLoader\n",
    "import numpy as np\n",
    "\n",
    "\n",
    "class Dataset(Dataset):\n",
    "    def __init__(self, X_data, y_data):\n",
    "        self.X_data = X_data\n",
    "        self.y_data = y_data\n",
    "        \n",
    "    def __getitem__(self, index):\n",
    "        return self.X_data[index], self.y_data[index]\n",
    "        \n",
    "    def __len__ (self):\n",
    "        return len(self.X_data)\n",
    "\n",
    "train_data = Dataset(np.array(X_train), y_train)\n",
    "dev_data = Dataset(np.array(X_dev), y_dev)"
   ]
  },
  {
   "cell_type": "markdown",
   "metadata": {},
   "source": [
    "## 4. Prepare Embedding Matrix"
   ]
  },
  {
   "cell_type": "code",
   "execution_count": 14,
   "metadata": {},
   "outputs": [
    {
     "name": "stdout",
     "output_type": "stream",
     "text": [
      "5982\n",
      "5982\n"
     ]
    },
    {
     "name": "stderr",
     "output_type": "stream",
     "text": [
      "/home/gyuwonable/anaconda3/envs/pt-latest/lib/python3.6/site-packages/ipykernel/__main__.py:9: DeprecationWarning: Call to deprecated `__getitem__` (Method will be removed in 4.0.0, use self.wv.__getitem__() instead).\n"
     ]
    }
   ],
   "source": [
    "import torch\n",
    "\n",
    "device = torch.device('cuda:0' if torch.cuda.is_available() else 'cpu')\n",
    "\n",
    "embedding_matrix = []\n",
    "\n",
    "for word in word2ix.keys():\n",
    "    try:\n",
    "        embedding_matrix.append(model[word])\n",
    "    except:\n",
    "        embedding_matrix.append(np.zeros(100))\n",
    "\n",
    "print(len(word2ix))\n",
    "print(len(embedding_matrix))\n",
    "\n",
    "embedding_matrix = torch.Tensor(embedding_matrix)"
   ]
  },
  {
   "cell_type": "code",
   "execution_count": 15,
   "metadata": {},
   "outputs": [
    {
     "data": {
      "text/plain": [
       "tensor([0., 0., 0., 0., 0., 0., 0., 0., 0., 0., 0., 0., 0., 0., 0., 0., 0., 0.,\n",
       "        0., 0., 0., 0., 0., 0., 0., 0., 0., 0., 0., 0., 0., 0., 0., 0., 0., 0.,\n",
       "        0., 0., 0., 0., 0., 0., 0., 0., 0., 0., 0., 0., 0., 0., 0., 0., 0., 0.,\n",
       "        0., 0., 0., 0., 0., 0., 0., 0., 0., 0., 0., 0., 0., 0., 0., 0., 0., 0.,\n",
       "        0., 0., 0., 0., 0., 0., 0., 0., 0., 0., 0., 0., 0., 0., 0., 0., 0., 0.,\n",
       "        0., 0., 0., 0., 0., 0., 0., 0., 0., 0.])"
      ]
     },
     "execution_count": 15,
     "metadata": {},
     "output_type": "execute_result"
    }
   ],
   "source": [
    "embedding_matrix[0] #<PAD>"
   ]
  },
  {
   "cell_type": "code",
   "execution_count": 16,
   "metadata": {},
   "outputs": [
    {
     "name": "stdout",
     "output_type": "stream",
     "text": [
      "자가/Noun\n",
      "tensor([ 0.0457,  0.2863,  0.1584, -0.2280,  0.3399,  0.5188, -0.1892,  0.0012,\n",
      "         0.0902,  0.0804,  0.0565,  0.0179,  0.1807,  0.2784, -0.0129,  0.0499,\n",
      "         0.1685,  0.0106,  0.1513, -0.0043, -0.4650,  0.1250,  0.4412, -0.1720,\n",
      "        -0.1823,  0.5343, -0.0155,  0.4647, -0.0782, -0.1674,  0.0878,  0.2256,\n",
      "        -0.3060, -0.2599, -0.3809,  0.0017, -0.2124, -0.1787, -0.3202, -0.1626,\n",
      "         0.0439, -0.0524,  0.1458, -0.2895,  0.3095, -0.4761,  0.1152, -0.2603,\n",
      "        -0.1557,  0.0177, -0.1418, -0.0305,  0.0217,  0.5578,  0.1623, -0.0064,\n",
      "         0.2204, -0.3902, -0.0899, -0.0673,  0.0064, -0.3541,  0.1090,  0.2966,\n",
      "        -0.0477,  0.2387, -0.4078, -0.0144,  0.0955, -0.3711,  0.1420,  0.2721,\n",
      "         0.0743, -0.1678, -0.0891, -0.0016,  0.3909, -0.2036,  0.0517,  0.1920,\n",
      "         0.0964,  0.1253,  0.1749, -0.2563, -0.1837, -0.2182,  0.2514, -0.2555,\n",
      "         0.1615,  0.1022,  0.1005,  0.2121, -0.4298, -0.0241,  0.1238,  0.0650,\n",
      "        -0.0466, -0.1136, -0.1073, -0.2301])\n",
      "[ 0.04567292  0.28632575  0.158449   -0.22797294  0.3399323   0.5187619\n",
      " -0.1892465   0.0011958   0.09015043  0.08037443  0.05646582  0.01785681\n",
      "  0.1807238   0.27843025 -0.01293882  0.04989245  0.16853231  0.01060871\n",
      "  0.15126023 -0.0042878  -0.4649902   0.12496583  0.4412184  -0.17199454\n",
      " -0.1823187   0.5343223  -0.01548502  0.46473178 -0.07821463 -0.16738488\n",
      "  0.08777408  0.22560535 -0.30596542 -0.25990036 -0.3809136   0.00165787\n",
      " -0.21237637 -0.17873286 -0.32019785 -0.16263951  0.04388074 -0.05240726\n",
      "  0.14580937 -0.2895394   0.30947164 -0.47609565  0.11518539 -0.26028663\n",
      " -0.15567535  0.01767164 -0.14183828 -0.03049738  0.02168114  0.5577661\n",
      "  0.16225024 -0.00637382  0.22040933 -0.3901868  -0.08990723 -0.06727579\n",
      "  0.0064271  -0.35406384  0.10898235  0.2965586  -0.04773572  0.23866671\n",
      " -0.40782794 -0.01442901  0.09552313 -0.37105107  0.14198196  0.27210328\n",
      "  0.07426934 -0.16780053 -0.08910521 -0.00155505  0.39094445 -0.2035675\n",
      "  0.05170301  0.19196342  0.09639666  0.12525237  0.1749467  -0.25628835\n",
      " -0.18368502 -0.21824895  0.2514281  -0.25553492  0.16147965  0.10216648\n",
      "  0.10047241  0.21212223 -0.42980948 -0.0241062   0.12377699  0.06503193\n",
      " -0.04661775 -0.11362192 -0.10726191 -0.23011309]\n"
     ]
    },
    {
     "name": "stderr",
     "output_type": "stream",
     "text": [
      "/home/gyuwonable/anaconda3/envs/pt-latest/lib/python3.6/site-packages/ipykernel/__main__.py:4: DeprecationWarning: Call to deprecated `__getitem__` (Method will be removed in 4.0.0, use self.wv.__getitem__() instead).\n"
     ]
    }
   ],
   "source": [
    "index = 12\n",
    "print(ix2word[index])\n",
    "print(embedding_matrix[index])\n",
    "print(model[ix2word[index]])"
   ]
  },
  {
   "cell_type": "markdown",
   "metadata": {},
   "source": [
    "## 5. Modeling\n",
    "\n",
    "#### 5. CNN + nn.Embedding + word2vec"
   ]
  },
  {
   "cell_type": "code",
   "execution_count": 17,
   "metadata": {
    "collapsed": true
   },
   "outputs": [],
   "source": [
    "import torch\n",
    "import torch.nn as nn\n",
    "import torch.nn.functional as F\n",
    "from torch.autograd import Variable\n",
    "import torch.optim as optim\n",
    "torch.manual_seed(777);"
   ]
  },
  {
   "cell_type": "code",
   "execution_count": 18,
   "metadata": {},
   "outputs": [
    {
     "data": {
      "text/plain": [
       "True"
      ]
     },
     "execution_count": 18,
     "metadata": {},
     "output_type": "execute_result"
    }
   ],
   "source": [
    "torch.cuda.is_available()"
   ]
  },
  {
   "cell_type": "code",
   "execution_count": 19,
   "metadata": {
    "collapsed": true
   },
   "outputs": [],
   "source": [
    "class CNN_Clf(nn.Module):\n",
    "    def __init__(self, vocab_size, embed_size, output_size, embedding_matrix):\n",
    "        super(CNN_Clf, self).__init__()\n",
    "#         self.embed = nn.Embedding.from_pretrained(embedding_matrix, freeze=False) # True is Default\n",
    "        self.embed = nn.Embedding.from_pretrained(embedding_matrix)\n",
    "#         torch.nn.Conv1d(in_channels, out_channels, kernel_size, stride=1, padding=0, dilation=1, groups=1, bias=True)\n",
    "        \n",
    "        self.conv_1d_1 = nn.Sequential(\n",
    "                            nn.Conv1d(1, out_chs, embed_size*filter_sizes[0]),\n",
    "                            nn.Tanh()\n",
    "                            #, nn.MaxPool1d((max_seq_length-filter_sizes[0])*batch_size + 1)\n",
    "                        )\n",
    "        \n",
    "        self.conv_1d_2 = nn.Sequential(\n",
    "                            nn.Conv1d(1, out_chs, embed_size*filter_sizes[1]),\n",
    "                            nn.Tanh()\n",
    "                            #, nn.MaxPool1d((max_seq_length-filter_sizes[1])*batch_size + 1)\n",
    "                        ) \n",
    "        self.conv_1d_3 = nn.Sequential(\n",
    "                            nn.Conv1d(1, out_chs, embed_size*filter_sizes[2]),\n",
    "                            nn.Tanh()\n",
    "                            #, nn.MaxPool1d((max_seq_length-filter_sizes[2])*batch_size + 1)\n",
    "                        )\n",
    "        \n",
    "#         self.conv_layer = nn.ModuleList([nn.Conv1d(1, out_chs, embed_size*fs) for fs in filter_sizes]) \n",
    "\n",
    "        self.dropout = nn.Dropout(DR_rate)\n",
    "        \n",
    "        self.fc_layer = nn.Linear(out_chs*len(filter_sizes), output_size)\n",
    "            \n",
    "    def forward(self, inputs):\n",
    "        embed = self.embed(inputs)\n",
    "#         print(embed.size()) => (batch_size, seq_len, embed_size) => (50, 113, 100)\n",
    "\n",
    "        embed_cat = embed.reshape(batch_size, 1, -1)\n",
    "#         print(embed_cat.size()) => (batch_size, 1, seq_len*embed_size) => (50, 1, 11300)\n",
    "\n",
    "        x = [self.conv_1d_1(embed_cat), self.conv_1d_2(embed_cat), self.conv_1d_3(embed_cat)]\n",
    "#         print(x[0].size()) => (batch_size, out_chs, feature_map_size)\n",
    "#                            => feature_map_size = (seq_len - filter_size)*embed_size + 1 \n",
    "#                            => (113-3)*100 + 1 = 11001\n",
    "#                            => (50, 100, 11001)\n",
    "#                            \n",
    "\n",
    "#         print(x[1].size()) => (batch_size, out_chs, feature_map_size)\n",
    "#                            => feature_map_size = (seq_len - filter_size)*embed_size + 1 \n",
    "#                            => (113-4)*100 + 1 = 10901\n",
    "#                            => (50, 100, 10901)\n",
    "#                           \n",
    "\n",
    "#         print(x[2].size()) => (batch_size, out_chs, feature_map_size)\n",
    "#                            => feature_map_size = (seq_len - filter_size)*embed_size + 1 \n",
    "#                            => (113-5)*100 + 1 = 10801\n",
    "#                            => (50, 100, 10801)\n",
    "#   \n",
    "        x = [F.max_pool1d(conv, (conv.size(2), )).squeeze(2) for conv in x]\n",
    "#         print(x[0].size()) => (50, 100)\n",
    "#         print(x[1].size()) => (50, 100)\n",
    "#         print(x[2].size()) => (50, 100)\n",
    "\n",
    "        x = torch.cat(x, 1)\n",
    "#         print(x.size()) => (50, 300)\n",
    "        \n",
    "\n",
    "        x = self.dropout(x)\n",
    "        x = self.fc_layer(x)\n",
    "#         print(x.size()) => (50, 2)\n",
    "\n",
    "        x = F.softmax(x ,dim=1)\n",
    "#         print(x.size()) => (50, 2)\n",
    "\n",
    "        return x\n",
    "      \n",
    "    def predict(self, inputs, test_batch_size):\n",
    "        embed = self.embed(inputs)\n",
    "        embed_cat = embed.reshape(test_batch_size, 1, -1)        \n",
    "        x = [self.conv_1d_1(embed_cat), self.conv_1d_2(embed_cat), self.conv_1d_3(embed_cat)]\n",
    "        x = [F.max_pool1d(conv, (conv.size(2), )).squeeze(2) for conv in x]\n",
    "\n",
    "        x = torch.cat(x, 1)\n",
    "        x = self.fc_layer(x)\n",
    "        x = F.softmax(x, dim=1)\n",
    "        \n",
    "        return x"
   ]
  },
  {
   "cell_type": "code",
   "execution_count": 20,
   "metadata": {
    "collapsed": true
   },
   "outputs": [],
   "source": [
    " def pad_sequence(batch):\n",
    "        X_batch, y_batch = zip(*batch)\n",
    "        max_seq_length = max([len(x) for x in X_batch])\n",
    "        if max_seq_length < max(filter_sizes):\n",
    "            max_seq_length = max(filter_sizes)\n",
    "\n",
    "        res = []\n",
    "        for seq in X_batch:\n",
    "            if len(seq) < max_seq_length:\n",
    "                pad_seq = torch.LongTensor(seq + [0]*(max_seq_length-len(seq)))\n",
    "                res.append(pad_seq)\n",
    "            else:\n",
    "                res.append(torch.LongTensor(seq))\n",
    "        return torch.cat(res).reshape(batch_size, max_seq_length), torch.LongTensor(y_batch)"
   ]
  },
  {
   "cell_type": "markdown",
   "metadata": {},
   "source": [
    "https://pytorch.org/tutorials/beginner/saving_loading_models.html"
   ]
  },
  {
   "cell_type": "code",
   "execution_count": 21,
   "metadata": {
    "collapsed": true
   },
   "outputs": [],
   "source": [
    "import copy\n",
    "\n",
    "def model_save(epoch, model, optimizer, train_loss, train_acc, val_loss, val_acc, PATH):\n",
    "    torch.save({\n",
    "            'epoch': epoch,\n",
    "            'model_state_dict': copy.deepcopy(model.state_dict()),\n",
    "            'optimizer_state_dict': optimizer.state_dict(),\n",
    "            'train_loss': train_loss,\n",
    "            'train_acc': train_acc,\n",
    "            'val_loss': val_loss,\n",
    "            'val_acc': val_acc\n",
    "    }, PATH)"
   ]
  },
  {
   "cell_type": "code",
   "execution_count": 22,
   "metadata": {
    "scrolled": true
   },
   "outputs": [
    {
     "name": "stderr",
     "output_type": "stream",
     "text": [
      "/home/gyuwonable/anaconda3/envs/pt-latest/lib/python3.6/site-packages/torch/onnx/symbolic.py:69: UserWarning: ONNX export failed on max_pool1d_with_indices because ceil_mode not supported\n",
      "  warnings.warn(\"ONNX export failed on \" + op + \" because \" + msg + \" not supported\")\n"
     ]
    },
    {
     "name": "stdout",
     "output_type": "stream",
     "text": [
      "epoch: 0\n",
      "train_acc: 0.097 (112/1150)\n",
      "val_acc: 0.328 (42/128)\n",
      "avg_train_loss: 0.705\n",
      "avg_val_loss: 0.715\n",
      "==========================================================\n",
      "epoch: 100\n",
      "train_acc: 0.510 (587/1150)\n",
      "val_acc: 0.672 (86/128)\n",
      "avg_train_loss: 0.676\n",
      "avg_val_loss: 0.673\n",
      "==========================================================\n",
      "epoch: 200\n",
      "train_acc: 0.523 (602/1150)\n",
      "val_acc: 0.688 (88/128)\n",
      "avg_train_loss: 0.663\n",
      "avg_val_loss: 0.666\n",
      "==========================================================\n",
      "epoch: 300\n",
      "train_acc: 0.510 (586/1150)\n",
      "val_acc: 0.688 (88/128)\n",
      "avg_train_loss: 0.641\n",
      "avg_val_loss: 0.657\n",
      "==========================================================\n",
      "epoch: 400\n",
      "train_acc: 0.517 (594/1150)\n",
      "val_acc: 0.680 (87/128)\n",
      "avg_train_loss: 0.606\n",
      "avg_val_loss: 0.647\n",
      "==========================================================\n",
      "epoch: 500\n",
      "train_acc: 0.518 (596/1150)\n",
      "val_acc: 0.680 (87/128)\n",
      "avg_train_loss: 0.591\n",
      "avg_val_loss: 0.637\n",
      "==========================================================\n",
      "epoch: 600\n",
      "train_acc: 0.538 (619/1150)\n",
      "val_acc: 0.711 (91/128)\n",
      "avg_train_loss: 0.563\n",
      "avg_val_loss: 0.628\n",
      "==========================================================\n",
      "epoch: 700\n",
      "train_acc: 0.532 (612/1150)\n",
      "val_acc: 0.727 (93/128)\n",
      "avg_train_loss: 0.541\n",
      "avg_val_loss: 0.622\n",
      "==========================================================\n",
      "epoch: 800\n",
      "train_acc: 0.542 (623/1150)\n",
      "val_acc: 0.734 (94/128)\n",
      "avg_train_loss: 0.517\n",
      "avg_val_loss: 0.614\n",
      "==========================================================\n",
      "epoch: 900\n",
      "train_acc: 0.555 (638/1150)\n",
      "val_acc: 0.742 (95/128)\n",
      "avg_train_loss: 0.495\n",
      "avg_val_loss: 0.609\n",
      "==========================================================\n",
      "epoch: 999\n",
      "train_acc: 0.545 (627/1150)\n",
      "val_acc: 0.758 (97/128)\n",
      "avg_train_loss: 0.494\n",
      "avg_val_loss: 0.603\n",
      "==========================================================\n",
      "CPU times: user 30min 24s, sys: 15min 3s, total: 45min 28s\n",
      "Wall time: 45min 28s\n"
     ]
    }
   ],
   "source": [
    "%%time\n",
    "from tensorboardX import SummaryWriter\n",
    "\n",
    "EPOCHS = 1000\n",
    "LR = 0.01 # Adadelta default learning_rate is 1.0\n",
    "batch_size = 50\n",
    "filter_sizes = [3, 4, 5]\n",
    "DR_rate = 0.5\n",
    "out_chs = 100\n",
    "\n",
    "writer = SummaryWriter('./log_files/model_save/')\n",
    "\n",
    "model = CNN_Clf(len(word2ix), 100, 2, embedding_matrix).to(device)\n",
    "\n",
    "# Add_Graph to Tensorboard\n",
    "dummy_input = Variable(torch.zeros(batch_size, max_seq_length).long()).to(device)\n",
    "writer.add_graph(model, dummy_input)\n",
    "\n",
    "# Add_Embedding to Tensorboard\n",
    "word_labels = [ix2word[i] for i in range(len(ix2word))]\n",
    "writer.add_embedding(model.embed.weight.data, metadata=word_labels)    \n",
    "\n",
    "# weighted CrossEntropyLoss\n",
    "# Approximately 1/2 negative_data per 1 positive data\n",
    "# criterion = nn.CrossEntropyLoss(weight=torch.Tensor([2.0, 1.0]).to(device))\n",
    "criterion = nn.CrossEntropyLoss(weight=torch.Tensor([1.3, 1.0]).to(device))\n",
    "# criterion = nn.CrossEntropyLoss()\n",
    "\n",
    "optimizer = optim.Adadelta(model.parameters(),lr=LR, weight_decay=1e-5) # use L2-Norm\n",
    "# optimizer = optim.SGD(model.parameters(),lr=LR, momentum=0.9, weight_decay=1e-5) # use L2-Norm\n",
    "\n",
    "train_loader = DataLoader(dataset=train_data, batch_size=batch_size, shuffle=True, collate_fn=pad_sequence)\n",
    "dev_loader = DataLoader(dataset=dev_data, batch_size=1, shuffle=False)\n",
    "\n",
    "for epoch in range(EPOCHS):\n",
    "    train_correct = 0\n",
    "    train_count = 0\n",
    "    train_loss = 0\n",
    "    val_correct = 0\n",
    "    val_count = 0\n",
    "    val_loss = 0\n",
    "    \n",
    "    \n",
    "    # Training\n",
    "    model = model.train()\n",
    "    \n",
    "    for X_batch, y_batch in train_loader:\n",
    "        model.zero_grad()\n",
    "        inputs = Variable(X_batch).to(device)\n",
    "        targets = Variable(y_batch).to(device)\n",
    "        \n",
    "        preds = model(inputs)\n",
    "     \n",
    "        loss = criterion(preds, targets)\n",
    "        train_loss += loss.item()\n",
    "        \n",
    "        compare = torch.max(preds, 1)[1]*targets\n",
    "        train_correct += torch.sum(compare).item()\n",
    "        train_count += X_batch.size(0)\n",
    "\n",
    "        \n",
    "        loss.backward()\n",
    "        optimizer.step()\n",
    "    \n",
    "    train_acc = train_correct/train_count\n",
    "    avg_train_loss = train_loss/(train_count/batch_size)\n",
    "    \n",
    "    # Validation\n",
    "\n",
    "    model = model.eval()\n",
    "    with torch.no_grad():          \n",
    "        for X_batch, y_batch in dev_loader:\n",
    "            val_count += 1         \n",
    "            if len(X_batch) < max(filter_sizes):\n",
    "                X_batch = torch.LongTensor(X_batch + [word2ix.get(\"<PAD>\")]*(max(filter_sizes)-len(X_batch))).to(device)\n",
    "            else:\n",
    "                X_batch = torch.LongTensor(X_batch).to(device)\n",
    "            input = Variable(X_batch).to(device)\n",
    "            target = Variable(torch.LongTensor(y_batch)).to(device)\n",
    "            pred = model.predict(input, test_batch_size=1)\n",
    "\n",
    "            loss = criterion(pred, target)\n",
    "            val_loss += loss.item()\n",
    "\n",
    "            _, pred = torch.max(pred, 1)\n",
    "            true = y_batch.item()\n",
    "            if true == pred.item():\n",
    "                val_correct +=1\n",
    "                          \n",
    "        val_acc = val_correct/val_count\n",
    "        avg_val_loss = val_loss/val_count\n",
    "\n",
    "    writer.add_scalars('Compare/train-val acc', {'Train Acc': train_acc,\n",
    "                                                    'Val Acc': val_acc}, epoch)\n",
    "    \n",
    "    writer.add_scalars('Compare/train-val losses', {'Train Loss': avg_train_loss,\n",
    "                                                    'Val Loss': avg_val_loss}, epoch)\n",
    "    \n",
    "    model_save(epoch, model, optimizer, \n",
    "               train_loss, train_acc, \n",
    "               val_loss, val_acc, PATH=\"./log_files/model_save/EPOCH_\"+str(epoch)+\".pt\") # pt는 확장자명\n",
    "    \n",
    "    if epoch % 100 == 0 or epoch == (EPOCHS-1):\n",
    "        print('epoch: {:d}'.format(epoch))\n",
    "        print('train_acc: {:.3f} ({:d}/{:d})'.format(train_acc, train_correct, train_count))\n",
    "        print('val_acc: {:.3f} ({:d}/{:d})'.format(val_acc, val_correct, val_count))\n",
    "        print('avg_train_loss: {:.3f}'.format(avg_train_loss))        \n",
    "        print('avg_val_loss: {:.3f}'.format(avg_val_loss))\n",
    "        print(\"==========================================================\")\n",
    "\n",
    "writer.close()"
   ]
  },
  {
   "cell_type": "code",
   "execution_count": 23,
   "metadata": {
    "scrolled": false
   },
   "outputs": [
    {
     "name": "stdout",
     "output_type": "stream",
     "text": [
      "Input : ['후반/Noun', '쫄렸다/Noun']\n",
      "Prediction : 0\n",
      "Truth : 1\n",
      "\n",
      "\n",
      "Input : ['감동/Noun', '영화/Noun', '보고/Noun', '운/Noun', '거의/Noun', '애니메이션/Noun', '보면서/Verb', '울줄/Verb', '몰랐네요/Verb', 'ㅜ/KoreanParticle', '감동/Noun', 'ㅜㅜ/KoreanParticle']\n",
      "Prediction : 1\n",
      "Truth : 1\n",
      "\n",
      "\n",
      "Input : ['스토리/Noun', '별로/Noun', '노래/Noun']\n",
      "Prediction : 1\n",
      "Truth : 1\n",
      "\n",
      "\n",
      "Input : ['히어로/Noun', '물/Noun', '찍어도/Verb', '될/Verb', '정도/Noun', '그래픽/Noun', '본/Verb', '한국영/Noun', '화의/Noun', '희망/Noun', '이야기/Noun', '거기/Noun']\n",
      "Prediction : 0\n",
      "Truth : 0\n",
      "\n",
      "\n",
      "Input : ['보통/Noun', '서로/Noun', '아는/Verb', '상황/Noun', '주먹/Noun', '메/Noun', '쳐서/Verb', '다른/Noun', '격방/Noun', '시도/Noun', '하는게/Verb', '정상/Noun', '로메/Noun', '쳐/Verb', '대는게/Verb', '인상/Noun', '또/Noun', '와칸/Noun', '다인/Noun', '가에서/Verb', '개때/Noun', '닥치는데/Verb', '굳이/Noun', '칼/Noun', '빼/Noun', '일일이/Noun', '상대/Noun', '하는것도/Verb', '졸/Noun', '인상/Noun', '과거/Noun', '마징/Noun', '가가/Noun', '싸우다가/Verb', '죽기/Verb', '직전/Noun', '가슴/Noun', '원자력/Noun', '빔/Noun', '쏴서/Verb', '이기는거/Verb', '배운듯/Verb']\n",
      "Prediction : 1\n",
      "Truth : 0\n",
      "\n",
      "\n",
      "Input : ['평론가/Noun', '의미/Noun', '평론/Noun', '하지만/Verb', '년/Noun', '동안/Noun', '봐/Verb', '온/Noun', '영화/Noun', '가장/Noun', '눈/Noun', '귀가/Noun', '마음/Noun', '또/Noun', '보고싶다/Verb']\n",
      "Prediction : 1\n",
      "Truth : 1\n",
      "\n",
      "\n",
      "test_acc: 0.681 (374/549)\n"
     ]
    }
   ],
   "source": [
    "test_correct = 0\n",
    "test_count = len(X_test)\n",
    "model = model.eval()\n",
    "for i, seq in enumerate(X_test):\n",
    "    if len(seq) < max(filter_sizes):\n",
    "        seq = seq + [word2ix.get(\"<PAD>\")]*(max(filter_sizes)-len(seq))\n",
    "    input = Variable(torch.LongTensor(seq).view(1,-1)).to(device)\n",
    "    pred = model.predict(input, test_batch_size=1)\n",
    "    _, pred = torch.max(pred, 1)\n",
    "    \n",
    "    true = y_test[i]\n",
    "    if true == pred.item():\n",
    "        test_correct +=1\n",
    "    \n",
    "    if i%100 == 0:\n",
    "        input_seq = [ix2word.get(ix) for ix in seq if ix != 0]\n",
    "        print(\"Input :\", input_seq)\n",
    "        print(\"Prediction :\", pred.item())\n",
    "        print(\"Truth :\",y_test[i])\n",
    "        print(\"\\n\")\n",
    "\n",
    "test_acc = test_correct / test_count\n",
    "\n",
    "print('test_acc: {:.3f} ({:d}/{:d})'.format(test_acc, test_correct, test_count))"
   ]
  },
  {
   "cell_type": "code",
   "execution_count": 24,
   "metadata": {},
   "outputs": [
    {
     "data": {
      "text/plain": [
       "odict_keys(['embed.weight', 'conv_1d_1.0.weight', 'conv_1d_1.0.bias', 'conv_1d_2.0.weight', 'conv_1d_2.0.bias', 'conv_1d_3.0.weight', 'conv_1d_3.0.bias', 'fc_layer.weight', 'fc_layer.bias'])"
      ]
     },
     "execution_count": 24,
     "metadata": {},
     "output_type": "execute_result"
    }
   ],
   "source": [
    "model.state_dict().keys()"
   ]
  },
  {
   "cell_type": "code",
   "execution_count": 25,
   "metadata": {
    "collapsed": true
   },
   "outputs": [
    {
     "data": {
      "text/plain": [
       "OrderedDict([('embed.weight',\n",
       "              tensor([[ 0.0000,  0.0000,  0.0000,  ...,  0.0000,  0.0000,  0.0000],\n",
       "                      [ 0.0000,  0.0000,  0.0000,  ...,  0.0000,  0.0000,  0.0000],\n",
       "                      [ 0.0000,  0.0000,  0.0000,  ...,  0.0000,  0.0000,  0.0000],\n",
       "                      ...,\n",
       "                      [-0.4206, -0.3258, -0.0437,  ..., -0.0978, -0.1347,  0.0543],\n",
       "                      [ 0.0000,  0.0000,  0.0000,  ...,  0.0000,  0.0000,  0.0000],\n",
       "                      [ 0.0000,  0.0000,  0.0000,  ...,  0.0000,  0.0000,  0.0000]],\n",
       "                     device='cuda:0')),\n",
       "             ('conv_1d_1.0.weight',\n",
       "              tensor([[[-0.0483, -0.0010, -0.0112,  ..., -0.0376,  0.0209,  0.0545]],\n",
       "              \n",
       "                      [[ 0.0564, -0.0210, -0.0373,  ...,  0.0514,  0.0521, -0.0202]],\n",
       "              \n",
       "                      [[ 0.0461,  0.0403,  0.0070,  ..., -0.0032, -0.0398, -0.0090]],\n",
       "              \n",
       "                      ...,\n",
       "              \n",
       "                      [[ 0.0528, -0.0309,  0.0013,  ...,  0.0544, -0.0087, -0.0461]],\n",
       "              \n",
       "                      [[ 0.0163,  0.0228,  0.0453,  ..., -0.0357, -0.0203, -0.0371]],\n",
       "              \n",
       "                      [[-0.0081, -0.0111,  0.0360,  ..., -0.0501,  0.0114, -0.0176]]],\n",
       "                     device='cuda:0')),\n",
       "             ('conv_1d_1.0.bias',\n",
       "              tensor([-0.0100, -0.0317, -0.0249, -0.0344, -0.0128, -0.0513, -0.0440,  0.0138,\n",
       "                      -0.0205, -0.0571, -0.0068, -0.0011, -0.0130,  0.0339,  0.0099, -0.0147,\n",
       "                       0.0512,  0.0098,  0.0351,  0.0355, -0.0477,  0.0514,  0.0490,  0.0077,\n",
       "                       0.0137,  0.0564,  0.0127, -0.0406,  0.0068, -0.0459, -0.0318, -0.0369,\n",
       "                      -0.0469,  0.0382, -0.0034, -0.0136, -0.0121, -0.0362, -0.0331,  0.0497,\n",
       "                      -0.0247,  0.0020, -0.0275,  0.0259,  0.0209,  0.0199,  0.0203,  0.0479,\n",
       "                      -0.0309,  0.0245,  0.0159,  0.0315,  0.0137,  0.0180,  0.0528, -0.0277,\n",
       "                       0.0542, -0.0393, -0.0324, -0.0113, -0.0441, -0.0301,  0.0540, -0.0117,\n",
       "                       0.0187,  0.0364, -0.0213, -0.0278,  0.0141,  0.0154,  0.0021,  0.0359,\n",
       "                      -0.0315, -0.0263,  0.0289,  0.0073,  0.0255, -0.0495, -0.0132, -0.0158,\n",
       "                       0.0489, -0.0299, -0.0204, -0.0224, -0.0340, -0.0394,  0.0233, -0.0192,\n",
       "                       0.0461, -0.0338,  0.0139, -0.0072, -0.0017, -0.0379,  0.0013,  0.0171,\n",
       "                      -0.0526,  0.0294,  0.0079,  0.0489], device='cuda:0')),\n",
       "             ('conv_1d_2.0.weight',\n",
       "              tensor([[[ 0.0219, -0.0035,  0.0080,  ..., -0.0337,  0.0187, -0.0354]],\n",
       "              \n",
       "                      [[ 0.0460, -0.0030, -0.0119,  ..., -0.0481,  0.0139,  0.0214]],\n",
       "              \n",
       "                      [[-0.0031,  0.0338, -0.0339,  ..., -0.0458, -0.0452,  0.0124]],\n",
       "              \n",
       "                      ...,\n",
       "              \n",
       "                      [[ 0.0078, -0.0458,  0.0397,  ...,  0.0474,  0.0022, -0.0475]],\n",
       "              \n",
       "                      [[ 0.0235,  0.0001, -0.0048,  ..., -0.0300, -0.0271,  0.0006]],\n",
       "              \n",
       "                      [[ 0.0303, -0.0294,  0.0404,  ...,  0.0284,  0.0151,  0.0256]]],\n",
       "                     device='cuda:0')),\n",
       "             ('conv_1d_2.0.bias',\n",
       "              tensor([-0.0380, -0.0066,  0.0025, -0.0243, -0.0439,  0.0226,  0.0276,  0.0302,\n",
       "                      -0.0491, -0.0489,  0.0338, -0.0363,  0.0230, -0.0356, -0.0454, -0.0394,\n",
       "                      -0.0350, -0.0261, -0.0359, -0.0390,  0.0291,  0.0293, -0.0134,  0.0184,\n",
       "                       0.0185,  0.0255, -0.0174, -0.0321, -0.0324, -0.0459, -0.0487,  0.0244,\n",
       "                       0.0354,  0.0038, -0.0357,  0.0045,  0.0392,  0.0236, -0.0153, -0.0012,\n",
       "                      -0.0005,  0.0375,  0.0462,  0.0283,  0.0209,  0.0295,  0.0464, -0.0447,\n",
       "                      -0.0283,  0.0305,  0.0437, -0.0184,  0.0041, -0.0243, -0.0252, -0.0035,\n",
       "                       0.0023,  0.0145, -0.0160,  0.0216,  0.0369,  0.0313,  0.0456,  0.0435,\n",
       "                       0.0407,  0.0309,  0.0068, -0.0295, -0.0425,  0.0018,  0.0004,  0.0246,\n",
       "                       0.0487, -0.0440, -0.0434, -0.0179, -0.0404,  0.0327,  0.0099, -0.0322,\n",
       "                       0.0337, -0.0412,  0.0064,  0.0228, -0.0246,  0.0293,  0.0365, -0.0064,\n",
       "                      -0.0038, -0.0282, -0.0209, -0.0453,  0.0348, -0.0121,  0.0302, -0.0152,\n",
       "                       0.0460,  0.0126, -0.0095, -0.0362], device='cuda:0')),\n",
       "             ('conv_1d_3.0.weight',\n",
       "              tensor([[[ 0.0265, -0.0045,  0.0122,  ..., -0.0035,  0.0108,  0.0222]],\n",
       "              \n",
       "                      [[-0.0280, -0.0120, -0.0163,  ..., -0.0357,  0.0067,  0.0145]],\n",
       "              \n",
       "                      [[-0.0421,  0.0079, -0.0169,  ...,  0.0065,  0.0408,  0.0243]],\n",
       "              \n",
       "                      ...,\n",
       "              \n",
       "                      [[-0.0410,  0.0325,  0.0200,  ..., -0.0405, -0.0028,  0.0091]],\n",
       "              \n",
       "                      [[-0.0341, -0.0014, -0.0415,  ...,  0.0261,  0.0048,  0.0058]],\n",
       "              \n",
       "                      [[-0.0152, -0.0348,  0.0419,  ..., -0.0067,  0.0327, -0.0429]]],\n",
       "                     device='cuda:0')),\n",
       "             ('conv_1d_3.0.bias',\n",
       "              tensor([-0.0426,  0.0138,  0.0319, -0.0370, -0.0432, -0.0403,  0.0336, -0.0391,\n",
       "                      -0.0320,  0.0122,  0.0225, -0.0306, -0.0377,  0.0179, -0.0004, -0.0181,\n",
       "                       0.0182,  0.0430,  0.0096,  0.0056,  0.0229,  0.0249, -0.0195, -0.0268,\n",
       "                       0.0197,  0.0300,  0.0300,  0.0284,  0.0196, -0.0174,  0.0398,  0.0438,\n",
       "                      -0.0132,  0.0265,  0.0207, -0.0390,  0.0035,  0.0387,  0.0252, -0.0067,\n",
       "                       0.0139, -0.0384, -0.0081,  0.0374, -0.0143,  0.0255,  0.0108, -0.0141,\n",
       "                       0.0046, -0.0196,  0.0297,  0.0217,  0.0029,  0.0337,  0.0400,  0.0205,\n",
       "                      -0.0158, -0.0246, -0.0061,  0.0302,  0.0146, -0.0275, -0.0317, -0.0071,\n",
       "                       0.0022,  0.0062,  0.0210,  0.0087, -0.0307, -0.0172,  0.0034,  0.0178,\n",
       "                       0.0024,  0.0109, -0.0409,  0.0171, -0.0276,  0.0236,  0.0422, -0.0177,\n",
       "                      -0.0447, -0.0357, -0.0112, -0.0270,  0.0022,  0.0187,  0.0327,  0.0354,\n",
       "                      -0.0004,  0.0300,  0.0261, -0.0234,  0.0021,  0.0151,  0.0007, -0.0219,\n",
       "                       0.0326, -0.0227,  0.0078, -0.0283], device='cuda:0')),\n",
       "             ('fc_layer.weight',\n",
       "              tensor([[-0.0055,  0.0025, -0.0156, -0.0214,  0.0512, -0.0217, -0.0140,  0.0519,\n",
       "                       -0.0297, -0.0188,  0.0011, -0.0186,  0.0429,  0.0226, -0.0517, -0.0427,\n",
       "                       -0.0330, -0.0454,  0.0241, -0.0092,  0.0075, -0.0303,  0.0527, -0.0389,\n",
       "                        0.0091,  0.0458,  0.0438, -0.0158,  0.0018, -0.0342,  0.0015, -0.0032,\n",
       "                       -0.0146,  0.0152,  0.0103,  0.0135, -0.0518, -0.0423,  0.0572, -0.0375,\n",
       "                        0.0263,  0.0419, -0.0138, -0.0395,  0.0021, -0.0543, -0.0375, -0.0447,\n",
       "                        0.0236, -0.0093,  0.0120, -0.0326, -0.0540,  0.0369, -0.0186, -0.0432,\n",
       "                        0.0550, -0.0218,  0.0556, -0.0579, -0.0099, -0.0138, -0.0168, -0.0257,\n",
       "                       -0.0146, -0.0215, -0.0156, -0.0192,  0.0380,  0.0106,  0.0535,  0.0132,\n",
       "                       -0.0011,  0.0464, -0.0173, -0.0542, -0.0210, -0.0365,  0.0141, -0.0367,\n",
       "                        0.0567, -0.0175, -0.0221,  0.0215, -0.0448, -0.0172,  0.0075, -0.0333,\n",
       "                        0.0546,  0.0362, -0.0408, -0.0431, -0.0515, -0.0431, -0.0279, -0.0503,\n",
       "                        0.0056, -0.0125,  0.0307,  0.0545,  0.0571,  0.0117, -0.0063,  0.0303,\n",
       "                       -0.0150, -0.0169,  0.0532,  0.0545, -0.0504,  0.0573, -0.0112, -0.0211,\n",
       "                        0.0136,  0.0427,  0.0088,  0.0048,  0.0303,  0.0274, -0.0305,  0.0502,\n",
       "                       -0.0322, -0.0438,  0.0199,  0.0556, -0.0571,  0.0030,  0.0354, -0.0141,\n",
       "                       -0.0519, -0.0454,  0.0463, -0.0568,  0.0007, -0.0002,  0.0563,  0.0142,\n",
       "                       -0.0128,  0.0054,  0.0442,  0.0484, -0.0534, -0.0479, -0.0172,  0.0520,\n",
       "                        0.0238,  0.0377, -0.0185,  0.0455, -0.0275, -0.0320, -0.0403,  0.0122,\n",
       "                        0.0162, -0.0101, -0.0116,  0.0186, -0.0181,  0.0097,  0.0086, -0.0139,\n",
       "                       -0.0365, -0.0342,  0.0487,  0.0071,  0.0160,  0.0525,  0.0239,  0.0185,\n",
       "                       -0.0256, -0.0506, -0.0087,  0.0339, -0.0192, -0.0150,  0.0256,  0.0438,\n",
       "                        0.0479, -0.0200,  0.0560,  0.0148,  0.0542,  0.0208, -0.0442,  0.0564,\n",
       "                       -0.0097, -0.0121, -0.0061, -0.0117,  0.0356, -0.0332,  0.0057,  0.0271,\n",
       "                        0.0490, -0.0301,  0.0096, -0.0289, -0.0572, -0.0577,  0.0123,  0.0241,\n",
       "                       -0.0083,  0.0212,  0.0408, -0.0258, -0.0348,  0.0003, -0.0110, -0.0255,\n",
       "                        0.0040,  0.0124, -0.0264,  0.0365,  0.0287, -0.0267,  0.0479, -0.0248,\n",
       "                        0.0499,  0.0103, -0.0366,  0.0121,  0.0279,  0.0440,  0.0436,  0.0483,\n",
       "                        0.0397,  0.0555,  0.0196,  0.0172,  0.0458,  0.0146, -0.0143, -0.0025,\n",
       "                       -0.0554,  0.0438, -0.0106, -0.0336,  0.0338, -0.0374, -0.0493,  0.0173,\n",
       "                       -0.0336,  0.0115, -0.0024,  0.0167, -0.0569, -0.0323,  0.0006,  0.0353,\n",
       "                       -0.0537, -0.0402, -0.0200, -0.0103,  0.0466, -0.0045, -0.0421,  0.0481,\n",
       "                       -0.0330, -0.0035,  0.0573, -0.0583,  0.0110, -0.0504,  0.0549, -0.0428,\n",
       "                        0.0264,  0.0380,  0.0077, -0.0126,  0.0200,  0.0415, -0.0402, -0.0120,\n",
       "                        0.0234, -0.0158, -0.0163,  0.0568, -0.0447, -0.0092,  0.0562,  0.0570,\n",
       "                        0.0153, -0.0254, -0.0414,  0.0296, -0.0434, -0.0288, -0.0290,  0.0383,\n",
       "                       -0.0233, -0.0238, -0.0095,  0.0440,  0.0024, -0.0026,  0.0329,  0.0301,\n",
       "                        0.0408, -0.0445,  0.0475, -0.0129],\n",
       "                      [ 0.0377, -0.0362, -0.0185,  0.0422, -0.0456, -0.0197, -0.0084,  0.0452,\n",
       "                       -0.0454, -0.0379, -0.0032,  0.0317, -0.0536, -0.0518, -0.0327, -0.0074,\n",
       "                        0.0491,  0.0164,  0.0354, -0.0537, -0.0371, -0.0344, -0.0425,  0.0172,\n",
       "                       -0.0117, -0.0031, -0.0552,  0.0062, -0.0058, -0.0133, -0.0085, -0.0489,\n",
       "                        0.0508, -0.0130,  0.0404, -0.0043,  0.0347,  0.0336,  0.0105, -0.0545,\n",
       "                        0.0567,  0.0031, -0.0490,  0.0443, -0.0107, -0.0331, -0.0561, -0.0326,\n",
       "                        0.0098,  0.0051, -0.0169,  0.0262,  0.0136, -0.0333,  0.0483, -0.0414,\n",
       "                       -0.0389,  0.0126, -0.0501, -0.0539,  0.0147, -0.0457, -0.0160,  0.0253,\n",
       "                        0.0245, -0.0344,  0.0523,  0.0282, -0.0024, -0.0570,  0.0475, -0.0425,\n",
       "                       -0.0390, -0.0403, -0.0263, -0.0429, -0.0507,  0.0373, -0.0184, -0.0213,\n",
       "                        0.0534,  0.0432,  0.0107,  0.0500,  0.0438,  0.0113, -0.0016,  0.0392,\n",
       "                       -0.0336, -0.0432, -0.0122,  0.0121,  0.0513, -0.0177, -0.0276,  0.0162,\n",
       "                        0.0212, -0.0324, -0.0474,  0.0262, -0.0226,  0.0243,  0.0224, -0.0270,\n",
       "                       -0.0037, -0.0156,  0.0107,  0.0506,  0.0215, -0.0125,  0.0577, -0.0055,\n",
       "                       -0.0196, -0.0502, -0.0558, -0.0463,  0.0263,  0.0486,  0.0228,  0.0516,\n",
       "                        0.0035, -0.0538, -0.0366,  0.0376,  0.0547,  0.0358,  0.0550,  0.0340,\n",
       "                       -0.0377,  0.0240, -0.0541,  0.0306, -0.0140,  0.0290, -0.0045, -0.0386,\n",
       "                        0.0491,  0.0145, -0.0230,  0.0016,  0.0343, -0.0439, -0.0025, -0.0307,\n",
       "                        0.0549,  0.0474, -0.0298,  0.0129, -0.0037,  0.0244, -0.0090, -0.0069,\n",
       "                       -0.0569, -0.0155, -0.0365,  0.0192,  0.0060, -0.0098,  0.0215, -0.0097,\n",
       "                       -0.0139,  0.0195, -0.0118, -0.0013,  0.0403,  0.0216, -0.0519, -0.0472,\n",
       "                       -0.0395,  0.0576, -0.0011, -0.0427,  0.0311, -0.0544,  0.0248,  0.0029,\n",
       "                        0.0058, -0.0075, -0.0315, -0.0254,  0.0559,  0.0361, -0.0364, -0.0090,\n",
       "                        0.0251, -0.0052,  0.0317, -0.0278,  0.0512,  0.0355, -0.0191,  0.0225,\n",
       "                        0.0151,  0.0060, -0.0162, -0.0357, -0.0320,  0.0287,  0.0239, -0.0339,\n",
       "                        0.0080, -0.0543,  0.0081,  0.0142,  0.0055,  0.0524,  0.0191,  0.0348,\n",
       "                       -0.0413, -0.0326,  0.0293, -0.0050, -0.0186, -0.0248,  0.0441, -0.0463,\n",
       "                       -0.0447, -0.0453,  0.0550,  0.0166, -0.0169, -0.0193, -0.0496, -0.0018,\n",
       "                        0.0078, -0.0290,  0.0488, -0.0524,  0.0344,  0.0168, -0.0105, -0.0405,\n",
       "                        0.0210,  0.0486,  0.0562,  0.0337,  0.0433, -0.0487, -0.0470, -0.0091,\n",
       "                        0.0486, -0.0528, -0.0175,  0.0112, -0.0053,  0.0333, -0.0180, -0.0027,\n",
       "                        0.0478,  0.0508,  0.0401,  0.0425,  0.0163, -0.0256, -0.0434, -0.0491,\n",
       "                       -0.0321, -0.0391,  0.0386,  0.0021,  0.0174, -0.0128,  0.0138, -0.0266,\n",
       "                       -0.0035,  0.0194,  0.0254, -0.0413,  0.0260, -0.0254,  0.0300, -0.0062,\n",
       "                        0.0006,  0.0260,  0.0360, -0.0002,  0.0303, -0.0419, -0.0414, -0.0089,\n",
       "                       -0.0417,  0.0120,  0.0269, -0.0182,  0.0151,  0.0061, -0.0537,  0.0390,\n",
       "                       -0.0398, -0.0243,  0.0345, -0.0141, -0.0331,  0.0136,  0.0334, -0.0398,\n",
       "                       -0.0324,  0.0127,  0.0459, -0.0539]], device='cuda:0')),\n",
       "             ('fc_layer.bias', tensor([ 0.0456, -0.0378], device='cuda:0'))])"
      ]
     },
     "execution_count": 25,
     "metadata": {},
     "output_type": "execute_result"
    }
   ],
   "source": [
    "model.state_dict()"
   ]
  }
 ],
 "metadata": {
  "anaconda-cloud": {},
  "kernelspec": {
   "display_name": "Python 3",
   "language": "python",
   "name": "python3"
  },
  "language_info": {
   "codemirror_mode": {
    "name": "ipython",
    "version": 3
   },
   "file_extension": ".py",
   "mimetype": "text/x-python",
   "name": "python",
   "nbconvert_exporter": "python",
   "pygments_lexer": "ipython3",
   "version": "3.6.5"
  },
  "latex_envs": {
   "LaTeX_envs_menu_present": true,
   "autoclose": false,
   "autocomplete": true,
   "bibliofile": "biblio.bib",
   "cite_by": "apalike",
   "current_citInitial": 1,
   "eqLabelWithNumbers": true,
   "eqNumInitial": 1,
   "hotkeys": {
    "equation": "Ctrl-E",
    "itemize": "Ctrl-I"
   },
   "labels_anchors": false,
   "latex_user_defs": false,
   "report_style_numbering": false,
   "user_envs_cfg": false
  },
  "toc": {
   "base_numbering": 1,
   "nav_menu": {},
   "number_sections": true,
   "sideBar": true,
   "skip_h1_title": false,
   "title_cell": "Table of Contents",
   "title_sidebar": "Contents",
   "toc_cell": false,
   "toc_position": {},
   "toc_section_display": true,
   "toc_window_display": false
  },
  "varInspector": {
   "cols": {
    "lenName": 16,
    "lenType": 16,
    "lenVar": 40
   },
   "kernels_config": {
    "python": {
     "delete_cmd_postfix": "",
     "delete_cmd_prefix": "del ",
     "library": "var_list.py",
     "varRefreshCmd": "print(var_dic_list())"
    },
    "r": {
     "delete_cmd_postfix": ") ",
     "delete_cmd_prefix": "rm(",
     "library": "var_list.r",
     "varRefreshCmd": "cat(var_dic_list()) "
    }
   },
   "types_to_exclude": [
    "module",
    "function",
    "builtin_function_or_method",
    "instance",
    "_Feature"
   ],
   "window_display": false
  }
 },
 "nbformat": 4,
 "nbformat_minor": 2
}
