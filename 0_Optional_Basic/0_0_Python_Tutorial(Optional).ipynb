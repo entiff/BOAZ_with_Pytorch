{
 "cells": [
  {
   "cell_type": "markdown",
   "metadata": {},
   "source": [
    "# Python Tutorial\n"
   ]
  },
  {
   "cell_type": "markdown",
   "metadata": {},
   "source": [
    "### 1. Hello World!"
   ]
  },
  {
   "cell_type": "code",
   "execution_count": 1,
   "metadata": {
    "ExecuteTime": {
     "end_time": "2018-10-18T07:23:24.464364Z",
     "start_time": "2018-10-18T07:23:24.458981Z"
    }
   },
   "outputs": [
    {
     "name": "stdout",
     "output_type": "stream",
     "text": [
      "Hello World!\n"
     ]
    }
   ],
   "source": [
    "print(\"Hello World!\")"
   ]
  },
  {
   "cell_type": "markdown",
   "metadata": {},
   "source": [
    "### 2. Variables and Types"
   ]
  },
  {
   "cell_type": "code",
   "execution_count": 9,
   "metadata": {
    "ExecuteTime": {
     "end_time": "2018-10-18T07:26:28.903900Z",
     "start_time": "2018-10-18T07:26:28.894973Z"
    }
   },
   "outputs": [
    {
     "name": "stdout",
     "output_type": "stream",
     "text": [
      "a: 2 <class 'int'>\n",
      "b: 2.0 <class 'float'>\n",
      "c: Pytorch <class 'str'>\n",
      "d: 4.0 <class 'float'>\n",
      "2 Pytorch <class 'str'>\n"
     ]
    }
   ],
   "source": [
    "a = 2\n",
    "print(\"a:\", a, type(a))\n",
    "\n",
    "b = 2.0\n",
    "print(\"b:\", b, type(b))\n",
    "\n",
    "c = \"Pytorch\"\n",
    "print(\"c:\", c, type(c))\n",
    "\n",
    "d = a+b\n",
    "print(\"d:\", d, type(d)) # int + float = float\n",
    "\n",
    "e = str(a)+\" \"+c\n",
    "print(e,type(e))"
   ]
  },
  {
   "cell_type": "markdown",
   "metadata": {},
   "source": [
    "### 3. Arithmetic Operations"
   ]
  },
  {
   "cell_type": "code",
   "execution_count": 10,
   "metadata": {
    "ExecuteTime": {
     "end_time": "2018-10-18T07:29:19.355395Z",
     "start_time": "2018-10-18T07:29:19.348454Z"
    }
   },
   "outputs": [
    {
     "name": "stdout",
     "output_type": "stream",
     "text": [
      "3\n",
      "-1\n",
      "6\n",
      "0.6666666666666666\n",
      "1\n",
      "8\n"
     ]
    }
   ],
   "source": [
    "a=1\n",
    "b=2\n",
    "c=3\n",
    "\n",
    "print(a+b)\n",
    "print(a-b)\n",
    "print(b*c)\n",
    "print(b/c)\n",
    "print(c//b) # 버림\n",
    "print(b**c) # 2의 세제곱 (2의 3승)"
   ]
  },
  {
   "cell_type": "markdown",
   "metadata": {},
   "source": [
    "### 4. List"
   ]
  },
  {
   "cell_type": "code",
   "execution_count": 14,
   "metadata": {
    "ExecuteTime": {
     "end_time": "2018-10-18T07:32:38.630417Z",
     "start_time": "2018-10-18T07:32:38.623506Z"
    }
   },
   "outputs": [
    {
     "name": "stdout",
     "output_type": "stream",
     "text": [
      "1 [1, 2, 3]\n",
      "2 [1, 2, 3, 4]\n",
      "3 [1, 2, 3, 4, 'abc']\n",
      "4 [1, 2, 3, 4]\n",
      "5 [1, 2, 3, 4]\n",
      "6 [1, 2, 3]\n"
     ]
    }
   ],
   "source": [
    "list_1 = [1,2,3]\n",
    "print(\"1\",list_1)\n",
    "\n",
    "list_1.append(4) #list에 숫자 4 추가\n",
    "print(\"2\",list_1)\n",
    "\n",
    "list_1.append(\"abc\") #list에 문자열 abc 추가\n",
    "print(\"3\",list_1)\n",
    "\n",
    "#index\n",
    "print(\"4\",list_1[:-1]) # 맨 마지막꺼 빼고\n",
    "\n",
    "\n",
    "del list_1[-1] #지우기\n",
    "print(\"5\",list_1)\n",
    "\n",
    "list_1.pop() # 마지막 요소 지우기\n",
    "print(\"6\",list_1)"
   ]
  },
  {
   "cell_type": "markdown",
   "metadata": {},
   "source": [
    "### 5. Dictionary"
   ]
  },
  {
   "cell_type": "code",
   "execution_count": 15,
   "metadata": {
    "ExecuteTime": {
     "end_time": "2018-10-18T07:35:09.025526Z",
     "start_time": "2018-10-18T07:35:09.018585Z"
    }
   },
   "outputs": [
    {
     "name": "stdout",
     "output_type": "stream",
     "text": [
      "{'python': 0, 'java': 1, 'c++': 2, 'ruby': 3, 'html': 4, 'key': 'value'}\n",
      "2\n",
      "{'python': 0, 'java': 1, 'c++': 2, 'ruby': 3, 'html': 4}\n",
      "{'python': 0, 'java': 1, 'c++': 2, 'ruby': 3, 'html': 4, 'pytorch': 5}\n"
     ]
    }
   ],
   "source": [
    "dict_1 = {\n",
    "    \"python\":0,\n",
    "    \"java\":1,\n",
    "    \"c++\":2,\n",
    "    \"ruby\":3,\n",
    "    \"html\":4,\n",
    "    \"key\":\"value\",\n",
    "}\n",
    "\n",
    "print(dict_1)\n",
    "print(dict_1[\"c++\"]) #key값으로 호출\n",
    "\n",
    "del dict_1[\"key\"] #key 값으로 삭제\n",
    "print(dict_1)\n",
    "\n",
    "dict_1[\"pytorch\"]=5 #dictionary에 추가\n",
    "print(dict_1)"
   ]
  },
  {
   "cell_type": "markdown",
   "metadata": {},
   "source": [
    "### 6. Loop"
   ]
  },
  {
   "cell_type": "code",
   "execution_count": 16,
   "metadata": {
    "ExecuteTime": {
     "end_time": "2018-10-18T07:36:36.953485Z",
     "start_time": "2018-10-18T07:36:36.946965Z"
    }
   },
   "outputs": [
    {
     "name": "stdout",
     "output_type": "stream",
     "text": [
      "0\n",
      "1\n",
      "2\n",
      "3\n",
      "4\n",
      "\n",
      "\n",
      "0\n",
      "-1\n",
      "-2\n",
      "-3\n",
      "-4\n"
     ]
    }
   ],
   "source": [
    "for i in range(5): #0~4까지 출력\n",
    "    print(i)\n",
    "    \n",
    "print(\"\\n\")\n",
    "for i in range(0,-5,-1): #0~-5까지 -1씩 줄여가면서 출력\n",
    "    print(i)"
   ]
  },
  {
   "cell_type": "code",
   "execution_count": 19,
   "metadata": {
    "ExecuteTime": {
     "end_time": "2018-10-18T07:47:40.306156Z",
     "start_time": "2018-10-18T07:47:40.299183Z"
    }
   },
   "outputs": [
    {
     "name": "stdout",
     "output_type": "stream",
     "text": [
      "[1, 2, 3]\n",
      "1\n",
      "2\n",
      "3\n",
      "\n",
      "\n",
      "{'python': 0, 'java': 1, 'c++': 2, 'ruby': 3, 'html': 4, 'pytorch': 5}\n",
      "python\n",
      "0\n",
      "java\n",
      "1\n",
      "c++\n",
      "2\n",
      "ruby\n",
      "3\n",
      "html\n",
      "4\n",
      "pytorch\n",
      "5\n"
     ]
    }
   ],
   "source": [
    "print(list_1)\n",
    "for i in list_1: #list_1안의 요소에 하나씩 접근합니다.\n",
    "    print(i)\n",
    "    \n",
    "print(\"\\n\")\n",
    "print(dict_1)\n",
    "for key in dict_1: #dictionary에서는 key값에 하나씩 접근합니다.\n",
    "    print(key, dict_1[key])"
   ]
  },
  {
   "cell_type": "code",
   "execution_count": 20,
   "metadata": {
    "ExecuteTime": {
     "end_time": "2018-10-18T07:51:23.815268Z",
     "start_time": "2018-10-18T07:51:23.810804Z"
    }
   },
   "outputs": [
    {
     "name": "stdout",
     "output_type": "stream",
     "text": [
      "0\n",
      "1\n",
      "2\n",
      "3\n",
      "4\n",
      "5\n",
      "6\n",
      "7\n",
      "8\n",
      "9\n"
     ]
    }
   ],
   "source": [
    "a = 0\n",
    "while(a<10):\n",
    "    print(a)\n",
    "    a+=1"
   ]
  },
  {
   "cell_type": "markdown",
   "metadata": {},
   "source": [
    "### 7. Condition"
   ]
  },
  {
   "cell_type": "code",
   "execution_count": 21,
   "metadata": {
    "ExecuteTime": {
     "end_time": "2018-10-18T07:56:16.718266Z",
     "start_time": "2018-10-18T07:56:16.712398Z"
    }
   },
   "outputs": [
    {
     "name": "stdout",
     "output_type": "stream",
     "text": [
      "True\n",
      "False\n",
      "False\n",
      "True\n"
     ]
    }
   ],
   "source": [
    "print(2==2)\n",
    "print(2==3) #같으면 True\n",
    "print(2!=2)\n",
    "print(2!=3) #다르면 True"
   ]
  },
  {
   "cell_type": "code",
   "execution_count": 22,
   "metadata": {
    "ExecuteTime": {
     "end_time": "2018-10-18T07:57:23.630693Z",
     "start_time": "2018-10-18T07:57:23.624752Z"
    }
   },
   "outputs": [
    {
     "name": "stdout",
     "output_type": "stream",
     "text": [
      "{'python': 0, 'java': 1, 'c++': 2, 'ruby': 3, 'html': 4, 'pytorch': 5}\n",
      "not ruby\n",
      "not ruby\n",
      "not ruby\n",
      "3\n",
      "not ruby\n",
      "not ruby\n"
     ]
    }
   ],
   "source": [
    "print(dict_1)\n",
    "for key in dict_1:\n",
    "    if key == \"ruby\":\n",
    "        print(dict_1[key])\n",
    "    else:\n",
    "        print(\"not ruby\")"
   ]
  },
  {
   "cell_type": "markdown",
   "metadata": {},
   "source": [
    "### 8. Function"
   ]
  },
  {
   "cell_type": "code",
   "execution_count": 23,
   "metadata": {
    "ExecuteTime": {
     "end_time": "2018-10-18T07:59:07.803063Z",
     "start_time": "2018-10-18T07:59:07.797110Z"
    }
   },
   "outputs": [
    {
     "name": "stdout",
     "output_type": "stream",
     "text": [
      "120\n"
     ]
    }
   ],
   "source": [
    "def factorial(num):\n",
    "    result = 1\n",
    "    for i in range(2, num+1):\n",
    "        result = result*i\n",
    "    return result\n",
    "\n",
    "print(factorial(5))"
   ]
  },
  {
   "cell_type": "markdown",
   "metadata": {},
   "source": [
    "### 9. Class and Objects"
   ]
  },
  {
   "cell_type": "code",
   "execution_count": 26,
   "metadata": {
    "ExecuteTime": {
     "end_time": "2018-10-18T08:16:44.085006Z",
     "start_time": "2018-10-18T08:16:44.077767Z"
    }
   },
   "outputs": [
    {
     "name": "stdout",
     "output_type": "stream",
     "text": [
      "Anakin Skywalker\n",
      "R2D2\n",
      "10\n",
      "20\n"
     ]
    }
   ],
   "source": [
    "class Jedi(object):\n",
    "    \n",
    "    def __init__(self,name,droid):\n",
    "        self.name = name\n",
    "        self.droid = droid\n",
    "        self.exp = 0\n",
    "        \n",
    "    def train(self):\n",
    "        self.exp += 10\n",
    "        \n",
    "anakin = Jedi(\"Anakin Skywalker\", \"R2D2\")\n",
    "anakin.train()\n",
    "\n",
    "print(anakin.name)\n",
    "print(anakin.droid)\n",
    "print(anakin.exp)\n",
    "\n",
    "anakin.train()\n",
    "\n",
    "print(anakin.exp)"
   ]
  },
  {
   "cell_type": "code",
   "execution_count": null,
   "metadata": {},
   "outputs": [],
   "source": []
  }
 ],
 "metadata": {
  "kernelspec": {
   "display_name": "Python 3",
   "language": "python",
   "name": "python3"
  },
  "language_info": {
   "codemirror_mode": {
    "name": "ipython",
    "version": 3
   },
   "file_extension": ".py",
   "mimetype": "text/x-python",
   "name": "python",
   "nbconvert_exporter": "python",
   "pygments_lexer": "ipython3",
   "version": "3.6.5"
  },
  "latex_envs": {
   "LaTeX_envs_menu_present": true,
   "autoclose": false,
   "autocomplete": true,
   "bibliofile": "biblio.bib",
   "cite_by": "apalike",
   "current_citInitial": 1,
   "eqLabelWithNumbers": true,
   "eqNumInitial": 1,
   "hotkeys": {
    "equation": "Ctrl-E",
    "itemize": "Ctrl-I"
   },
   "labels_anchors": false,
   "latex_user_defs": false,
   "report_style_numbering": false,
   "user_envs_cfg": false
  },
  "toc": {
   "base_numbering": 1,
   "nav_menu": {},
   "number_sections": false,
   "sideBar": true,
   "skip_h1_title": false,
   "title_cell": "Table of Contents",
   "title_sidebar": "Contents",
   "toc_cell": false,
   "toc_position": {},
   "toc_section_display": true,
   "toc_window_display": true
  },
  "varInspector": {
   "cols": {
    "lenName": 16,
    "lenType": 16,
    "lenVar": 40
   },
   "kernels_config": {
    "python": {
     "delete_cmd_postfix": "",
     "delete_cmd_prefix": "del ",
     "library": "var_list.py",
     "varRefreshCmd": "print(var_dic_list())"
    },
    "r": {
     "delete_cmd_postfix": ") ",
     "delete_cmd_prefix": "rm(",
     "library": "var_list.r",
     "varRefreshCmd": "cat(var_dic_list()) "
    }
   },
   "types_to_exclude": [
    "module",
    "function",
    "builtin_function_or_method",
    "instance",
    "_Feature"
   ],
   "window_display": false
  }
 },
 "nbformat": 4,
 "nbformat_minor": 2
}
